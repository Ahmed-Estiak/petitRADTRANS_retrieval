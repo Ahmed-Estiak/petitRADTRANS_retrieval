{
  "nbformat": 4,
  "nbformat_minor": 0,
  "metadata": {
    "colab": {
      "provenance": [],
      "toc_visible": true
    },
    "kernelspec": {
      "name": "python3",
      "display_name": "Python 3"
    },
    "language_info": {
      "name": "python"
    }
  },
  "cells": [
    {
      "cell_type": "markdown",
      "source": [
        "## Google Colab Usage\n",
        "\n",
        "*Please read (don't just hit run) the information given above each code cell as there are separate install cells for Colab*\n",
        "&#128992;\n",
        "*and running Python on your computer*\n",
        "&#128309;.\n",
        "\n",
        "**Confirm login account**\n",
        "* Please make sure to be logged in with the Google account you want to use for the exercises before running the code cells below. You can check by clicking the circular account icon in the top right corner of the colab notebook.\n",
        "\n",
        "**Working directory**\n",
        "* Note: The software and data will be installed in a directory called \"SSW2023/pRT\" in your Google drive. This directory will be created if it does not exist.\n",
        "\n",
        "**Running cells**\n",
        "* Run cells individually by clicking on the triangle on each cell\n",
        "\n",
        "**To Restart runtime**\n",
        "*   Click on Runtime menu item\n",
        "*   Select Restart runtime\n",
        "*   Select Run code cells individually from the top\n",
        "\n",
        "**To Recreate runtime**\n",
        "*   Click on Runtime menu item\n",
        "*   Select Disconnect and Delete runtime\n",
        "*   Select Run code cells individually from the top\n",
        "\n",
        "**To Exit:**\n",
        "*   Close the browser window"
      ],
      "metadata": {
        "id": "9J_tpZzzrf43"
      }
    },
    {
      "cell_type": "markdown",
      "source": [
        "# 0. Table of Contents\n",
        "\n",
        "This documentation is split into two parts:\n",
        "1. Todos *before* attending the hands-on session. This includes **downloading** the required input data to your Google Drive / computer and testing whether the codes petitRADTRANS (pRT) and Multinest can be successfully installed **before you attempt the exercises**.\n",
        "2. Instructions that explain what to do during the hands-on session."
      ],
      "metadata": {
        "id": "EYu35a05rHyg"
      }
    },
    {
      "cell_type": "markdown",
      "source": [
        "# 1. Preparation steps before attending the hands-on session"
      ],
      "metadata": {
        "id": "2oy0BKSrrSmF"
      }
    },
    {
      "cell_type": "markdown",
      "source": [
        "## 1.1 Download pRT's input data\n"
      ],
      "metadata": {
        "id": "eh1fkiczGy0p"
      }
    },
    {
      "cell_type": "markdown",
      "source": [
        "### 1.1.1 &#128992; If running on Colab:\n",
        "For running the pRT hands-on session you need 2 GB of free space for the input data on your Google Drive. Since you will download the compressed file to your drive, unzip and then delete it, 4 GB of free space are required to complete the download process. If your Drive is full and you cannot empty it sufficiently: please create a new, dedicated Gmail account for the Sagan Summer Workshop which will have 15 GB of free space. If you have enough free space and are logged into the account that you want to use, please carry out this command to connect to your Google Drive.\n",
        "\n",
        "&#128992; **Run this cell if you are running on Colab**"
      ],
      "metadata": {
        "id": "UL4K4Yy0wAf-"
      }
    },
    {
      "cell_type": "code",
      "source": [
        "from google.colab import drive\n",
        "drive.mount(\"/content/drive\")"
      ],
      "metadata": {
        "id": "3UDKgAxAFaIC",
        "colab": {
          "base_uri": "https://localhost:8080/"
        },
        "outputId": "6ecf1e81-fd83-45ef-8b76-289167451d66"
      },
      "execution_count": null,
      "outputs": [
        {
          "output_type": "stream",
          "name": "stdout",
          "text": [
            "Mounted at /content/drive\n"
          ]
        }
      ]
    },
    {
      "cell_type": "markdown",
      "source": [
        "The commands below defins the download location, downloads the data, unzips it, and puts it into a default location on your Google Drive. The compressed file will then be deleted.\n",
        "\n",
        "\"SSW2023/pRT\" is the default and you can leave that as-is or change it in the fill in box on the right. Be sure to pick a directory name that does not have any spaces.  This cell must be run to define the install location.\n",
        "\n",
        "&#128992; **Run the following 2 cells if you are running on Colab**\n",
        "\n",
        "**Please let the code cells finish before proceeding to the cells further below.**"
      ],
      "metadata": {
        "id": "wCycIurSFjpg"
      }
    },
    {
      "cell_type": "code",
      "source": [
        "# If you update the directory in the box on the right, re-run this cell\n",
        "pRT_dir = 'SSW2023/pRT' #@param {type:\"string\"}"
      ],
      "metadata": {
        "id": "4lBFBHqfA1YW"
      },
      "execution_count": null,
      "outputs": []
    },
    {
      "cell_type": "code",
      "source": [
        "# Create the pRT directory in drive and install petitRADTRANS\n",
        "import os\n",
        "\n",
        "# Google top level drive dir\n",
        "drive_dir = \"/content/drive/MyDrive/\"\n",
        "\n",
        "# pRT directory path\n",
        "pRT_path = os.path.join(drive_dir, pRT_dir)\n",
        "\n",
        "# Create the pRT directory\n",
        "try:\n",
        "    os.makedirs(pRT_path, exist_ok = True)\n",
        "    print(\"Directory '%s' created successfully\" %pRT_path)\n",
        "except OSError as error:\n",
        "    print(\"Directory '%s' can not be created\")\n",
        "\n",
        "# Change to the pRT_path\n",
        "os.chdir(pRT_path)\n",
        "\n",
        "# Download petitRADTRANS\n",
        "!wget -O pRT_SSW.tar.gz https://catcopy.ipac.caltech.edu/ssw/hands-on/pRT_SSW.tar.gz\n",
        "!tar xf pRT_SSW.tar.gz && rm pRT_SSW.tar.gz"
      ],
      "metadata": {
        "id": "y4q_0aObF2Ly",
        "colab": {
          "base_uri": "https://localhost:8080/"
        },
        "outputId": "cf8d97b4-1405-4025-9214-2e724832d132"
      },
      "execution_count": null,
      "outputs": [
        {
          "output_type": "stream",
          "name": "stdout",
          "text": [
            "Directory '/content/drive/MyDrive/SSW2023/pRT' created successfully\n",
            "--2023-07-26 22:02:03--  https://catcopy.ipac.caltech.edu/ssw/hands-on/pRT_SSW.tar.gz\n",
            "Resolving catcopy.ipac.caltech.edu (catcopy.ipac.caltech.edu)... 134.4.25.122\n",
            "Connecting to catcopy.ipac.caltech.edu (catcopy.ipac.caltech.edu)|134.4.25.122|:443... connected.\n",
            "HTTP request sent, awaiting response... 200 OK\n",
            "Length: 1438442091 (1.3G) [application/x-gzip]\n",
            "Saving to: ‘pRT_SSW.tar.gz’\n",
            "\n",
            "pRT_SSW.tar.gz      100%[===================>]   1.34G  19.5MB/s    in 83s     \n",
            "\n",
            "2023-07-26 22:03:28 (16.5 MB/s) - ‘pRT_SSW.tar.gz’ saved [1438442091/1438442091]\n",
            "\n"
          ]
        }
      ]
    },
    {
      "cell_type": "markdown",
      "source": [
        "### 1.1.1 &#128309; If running on your computer:\n",
        "\n",
        "*Install petitRADTRANS (**pRT**) following the instructions in the SSW2023_Python_Instructions document available [here](https://nexsci.caltech.edu/workshop/2023/handson.shtml).*\n",
        "\n",
        "**Even if you have a working pRT installation on your machine already, please download the data folder we prepared for the hands on session here.** This is because the folder contains additional data that we will need during the hands-on session (JWST observations, already binned-down opacities). In its unzipped form the folder has a size of 2 GB. You don't need to replace the standard pRT input data folder, just put the new folder somewhere else, but remember its absolute path.\n",
        "\n",
        "In the code cell below, please specify path where you want to put the hands-on session input data.\n",
        "\n",
        "&#128309; **Run this cell if running on your computer (not Colab!)**"
      ],
      "metadata": {
        "id": "HptfdYpnwGnr"
      }
    },
    {
      "cell_type": "code",
      "source": [
        "import os\n",
        "absolute_path_to_the_data_folder_on_your_machine = '' # Please complete!\n",
        "os.chdir(absolute_path_to_the_data_folder_on_your_machine)"
      ],
      "metadata": {
        "id": "-gvnjXWWyFzy"
      },
      "execution_count": null,
      "outputs": []
    },
    {
      "cell_type": "markdown",
      "source": [
        "The code cell below downloads the data and unzips it. This requires wget and tar to be installed, the following should then work for Mac and Linux users. It uses a .tar.gz file.\n",
        "\n",
        "If you plan to run on Windows, you can download a zipped version of the input data by appending \".zip\" instead of \"tar.gz\" to the url and file below and you may need to append \"--no-certificate-check\" to the wget commands. Or you can download a zip file directly [here](https://vmcatcopy.ipac.caltech.edu/ssw/hands-on/pRT_SSW.zip)\n",
        "\n",
        "&#128309; **Run this cell if running on your computer (not Colab!)**"
      ],
      "metadata": {
        "id": "aUi-c9pjyGzI"
      }
    },
    {
      "cell_type": "code",
      "source": [
        "!wget -O pRT_SSW.tar.gz https://catcopy.ipac.caltech.edu/ssw/hands-on/pRT_SSW.tar.gz\n",
        "!tar xf pRT_SSW.tar.gz && rm pRT_SSW.tar.gz"
      ],
      "metadata": {
        "id": "4C9PpbcOxYb6"
      },
      "execution_count": null,
      "outputs": []
    },
    {
      "cell_type": "markdown",
      "source": [
        "## 1.2 Installation tests\n",
        "This notebook will explain the steps necessary for testing whether petitRADTRANS  (pRT) and the retrieval sampler Multinest run in your setup."
      ],
      "metadata": {
        "id": "q5badegRBCew"
      }
    },
    {
      "cell_type": "markdown",
      "source": [
        "### 1.2.1 &#128992; If running on Colab:\n",
        "Note that installing pRT and Multinest is required for all Colab runtime sessions you start. But the necessary commands will always be provided for you in the first cells of any pRT hands-on session notebook. Here we are just testing whether it works in principle."
      ],
      "metadata": {
        "id": "NnvBVwo_zZTy"
      }
    },
    {
      "cell_type": "markdown",
      "source": [
        "#### Multinest installation\n",
        "For retrievals we will use the PyMultiNest package, which is a Python wrapper of the nested sampling code called MultiNest. For this it is first necessary to install Multinest. By running the code cell below, the notebook will clone the Multinest source code from the github repository, compile it, and copy the resulting library files to a location where PyMultiNest can find them.\n",
        "\n",
        "&#128992; **Run this cell if you are running on Colab**"
      ],
      "metadata": {
        "id": "pOKmvCmlBVOF"
      }
    },
    {
      "cell_type": "code",
      "source": [
        "import os\n",
        "os.chdir('/content/')\n",
        "!rm -rf multinest\n",
        "!git clone https://www.github.com/johannesbuchner/multinest.git\n",
        "!cd multinest/build && cmake ..\n",
        "!sed -i 's/-lmkl_gf_lp64 -lmkl_gnu_thread/-lmkl_mc3 -lmkl_rt -lmkl_avx2/' multinest/build/src/CMakeFiles/multinest_shared.dir/link.txt\n",
        "!cd multinest/build && make && make install\n",
        "!cp /content/multinest/lib/* /lib/"
      ],
      "metadata": {
        "id": "a8eXt8XqBVw8",
        "colab": {
          "base_uri": "https://localhost:8080/"
        },
        "outputId": "6905269d-0b02-415a-ed96-c54524ddecda"
      },
      "execution_count": null,
      "outputs": [
        {
          "output_type": "stream",
          "name": "stdout",
          "text": [
            "Cloning into 'multinest'...\n",
            "warning: redirecting to https://github.com/johannesbuchner/multinest.git/\n",
            "remote: Enumerating objects: 549, done.\u001b[K\n",
            "remote: Counting objects: 100% (118/118), done.\u001b[K\n",
            "remote: Compressing objects: 100% (98/98), done.\u001b[K\n",
            "remote: Total 549 (delta 65), reused 49 (delta 19), pack-reused 431\u001b[K\n",
            "Receiving objects: 100% (549/549), 300.02 KiB | 10.00 MiB/s, done.\n",
            "Resolving deltas: 100% (342/342), done.\n",
            "-- The Fortran compiler identification is GNU 11.3.0\n",
            "-- The C compiler identification is GNU 11.3.0\n",
            "-- The CXX compiler identification is GNU 11.3.0\n",
            "-- Detecting Fortran compiler ABI info\n",
            "-- Detecting Fortran compiler ABI info - done\n",
            "-- Check for working Fortran compiler: /usr/bin/f95 - skipped\n",
            "-- Detecting C compiler ABI info\n",
            "-- Detecting C compiler ABI info - done\n",
            "-- Check for working C compiler: /usr/bin/cc - skipped\n",
            "-- Detecting C compile features\n",
            "-- Detecting C compile features - done\n",
            "-- Detecting CXX compiler ABI info\n",
            "-- Detecting CXX compiler ABI info - done\n",
            "-- Check for working CXX compiler: /usr/bin/c++ - skipped\n",
            "-- Detecting CXX compile features\n",
            "-- Detecting CXX compile features - done\n",
            "-- Looking for Fortran sgemm\n",
            "-- Looking for Fortran sgemm - not found\n",
            "-- Performing Test CMAKE_HAVE_LIBC_PTHREAD\n",
            "-- Performing Test CMAKE_HAVE_LIBC_PTHREAD - Success\n",
            "-- Found Threads: TRUE  \n",
            "-- Looking for Fortran sgemm\n",
            "-- Looking for Fortran sgemm - found\n",
            "-- Found BLAS: /usr/local/lib/libmkl_gf_lp64.so;/usr/local/lib/libmkl_gnu_thread.so;/usr/local/lib/libmkl_core.so;/usr/lib/gcc/x86_64-linux-gnu/11/libgomp.so;-lm;-ldl  \n",
            "-- Looking for Fortran cheev\n",
            "-- Looking for Fortran cheev - found\n",
            "-- Found LAPACK: /usr/local/lib/libmkl_gf_lp64.so;/usr/local/lib/libmkl_gnu_thread.so;/usr/local/lib/libmkl_core.so;/usr/lib/gcc/x86_64-linux-gnu/11/libgomp.so;-lm;-ldl;-lm;-ldl  \n",
            "-- Detected gfortran, adding -ffree-line-length-none compiler flag.\n",
            "-- Detected gfortran >= 10, adding -std=legacy compiler flag.\n",
            "-- Detected gfortran-10+, adding -w -fallow-argument-mismatch compiler flag.\n",
            "-- Found MPI_C: /usr/lib/x86_64-linux-gnu/openmpi/lib/libmpi.so (found version \"3.1\") \n",
            "-- Found MPI_CXX: /usr/lib/x86_64-linux-gnu/openmpi/lib/libmpi_cxx.so (found version \"3.1\") \n",
            "-- Found MPI_Fortran: /usr/lib/x86_64-linux-gnu/libmpi_usempif08.so (found version \"3.1\") \n",
            "-- Found MPI: TRUE (found version \"3.1\")  \n",
            "-- Configuring done\n",
            "-- Generating done\n",
            "-- Build files have been written to: /content/multinest/build\n",
            "[  1%] \u001b[32mBuilding Fortran object src/CMakeFiles/multinest_static.dir/utils.f90.o\u001b[0m\n",
            "[  2%] \u001b[32mBuilding Fortran object src/CMakeFiles/multinest_static.dir/utils1.f90.o\u001b[0m\n",
            "[  4%] \u001b[32mBuilding Fortran object src/CMakeFiles/multinest_static.dir/kmeans_clstr.f90.o\u001b[0m\n",
            "[  5%] \u001b[32mBuilding Fortran object src/CMakeFiles/multinest_static.dir/xmeans_clstr.f90.o\u001b[0m\n",
            "[  7%] \u001b[32mBuilding Fortran object src/CMakeFiles/multinest_static.dir/posterior.F90.o\u001b[0m\n",
            "[  8%] \u001b[32mBuilding Fortran object src/CMakeFiles/multinest_static.dir/priors.f90.o\u001b[0m\n",
            "[ 10%] \u001b[32mBuilding Fortran object src/CMakeFiles/multinest_static.dir/nested.F90.o\u001b[0m\n",
            "[ 11%] \u001b[32mBuilding Fortran object src/CMakeFiles/multinest_static.dir/cwrapper.f90.o\u001b[0m\n",
            "[ 12%] \u001b[32m\u001b[1mLinking Fortran static library /content/multinest/lib/libmultinest.a\u001b[0m\n",
            "[ 12%] Built target multinest_static\n",
            "[ 14%] \u001b[32mBuilding Fortran object src/CMakeFiles/multinest_shared.dir/utils.f90.o\u001b[0m\n",
            "[ 15%] \u001b[32mBuilding Fortran object src/CMakeFiles/multinest_shared.dir/utils1.f90.o\u001b[0m\n",
            "[ 17%] \u001b[32mBuilding Fortran object src/CMakeFiles/multinest_shared.dir/kmeans_clstr.f90.o\u001b[0m\n",
            "[ 18%] \u001b[32mBuilding Fortran object src/CMakeFiles/multinest_shared.dir/xmeans_clstr.f90.o\u001b[0m\n",
            "[ 20%] \u001b[32mBuilding Fortran object src/CMakeFiles/multinest_shared.dir/posterior.F90.o\u001b[0m\n",
            "[ 21%] \u001b[32mBuilding Fortran object src/CMakeFiles/multinest_shared.dir/priors.f90.o\u001b[0m\n",
            "[ 22%] \u001b[32mBuilding Fortran object src/CMakeFiles/multinest_shared.dir/nested.F90.o\u001b[0m\n",
            "[ 24%] \u001b[32mBuilding Fortran object src/CMakeFiles/multinest_shared.dir/cwrapper.f90.o\u001b[0m\n",
            "[ 25%] \u001b[32m\u001b[1mLinking Fortran shared library /content/multinest/lib/libmultinest.so\u001b[0m\n",
            "[ 25%] Built target multinest_shared\n",
            "[ 27%] \u001b[32mBuilding Fortran object src/CMakeFiles/multinest_mpi_static.dir/utils.f90.o\u001b[0m\n",
            "[ 28%] \u001b[32mBuilding Fortran object src/CMakeFiles/multinest_mpi_static.dir/utils1.f90.o\u001b[0m\n",
            "[ 30%] \u001b[32mBuilding Fortran object src/CMakeFiles/multinest_mpi_static.dir/kmeans_clstr.f90.o\u001b[0m\n",
            "[ 31%] \u001b[32mBuilding Fortran object src/CMakeFiles/multinest_mpi_static.dir/xmeans_clstr.f90.o\u001b[0m\n",
            "[ 32%] \u001b[32mBuilding Fortran object src/CMakeFiles/multinest_mpi_static.dir/posterior.F90.o\u001b[0m\n",
            "[ 34%] \u001b[32mBuilding Fortran object src/CMakeFiles/multinest_mpi_static.dir/priors.f90.o\u001b[0m\n",
            "[ 35%] \u001b[32mBuilding Fortran object src/CMakeFiles/multinest_mpi_static.dir/nested.F90.o\u001b[0m\n",
            "[ 37%] \u001b[32mBuilding Fortran object src/CMakeFiles/multinest_mpi_static.dir/cwrapper.f90.o\u001b[0m\n",
            "[ 38%] \u001b[32m\u001b[1mLinking Fortran static library /content/multinest/lib/libmultinest_mpi.a\u001b[0m\n",
            "[ 38%] Built target multinest_mpi_static\n",
            "[ 40%] \u001b[32mBuilding Fortran object src/CMakeFiles/multinest_mpi_shared.dir/utils.f90.o\u001b[0m\n",
            "[ 41%] \u001b[32mBuilding Fortran object src/CMakeFiles/multinest_mpi_shared.dir/utils1.f90.o\u001b[0m\n",
            "[ 42%] \u001b[32mBuilding Fortran object src/CMakeFiles/multinest_mpi_shared.dir/kmeans_clstr.f90.o\u001b[0m\n",
            "[ 44%] \u001b[32mBuilding Fortran object src/CMakeFiles/multinest_mpi_shared.dir/xmeans_clstr.f90.o\u001b[0m\n",
            "[ 45%] \u001b[32mBuilding Fortran object src/CMakeFiles/multinest_mpi_shared.dir/posterior.F90.o\u001b[0m\n",
            "[ 47%] \u001b[32mBuilding Fortran object src/CMakeFiles/multinest_mpi_shared.dir/priors.f90.o\u001b[0m\n",
            "[ 48%] \u001b[32mBuilding Fortran object src/CMakeFiles/multinest_mpi_shared.dir/nested.F90.o\u001b[0m\n",
            "[ 50%] \u001b[32mBuilding Fortran object src/CMakeFiles/multinest_mpi_shared.dir/cwrapper.f90.o\u001b[0m\n",
            "[ 51%] \u001b[32m\u001b[1mLinking Fortran shared library /content/multinest/lib/libmultinest_mpi.so\u001b[0m\n",
            "[ 51%] Built target multinest_mpi_shared\n",
            "[ 52%] \u001b[32mBuilding Fortran object src/example_ackley/CMakeFiles/ackley.dir/params.f90.o\u001b[0m\n",
            "[ 54%] \u001b[32mBuilding Fortran object src/example_ackley/CMakeFiles/ackley.dir/like.f90.o\u001b[0m\n",
            "[ 55%] \u001b[32mBuilding Fortran object src/example_ackley/CMakeFiles/ackley.dir/nestwrap.f90.o\u001b[0m\n",
            "[ 57%] \u001b[32mBuilding Fortran object src/example_ackley/CMakeFiles/ackley.dir/main.f90.o\u001b[0m\n",
            "[ 58%] \u001b[32m\u001b[1mLinking Fortran executable /content/multinest/bin/ackley\u001b[0m\n",
            "[ 58%] Built target ackley\n",
            "[ 60%] \u001b[32mBuilding C object src/example_eggbox_C/CMakeFiles/eggboxC.dir/eggbox.c.o\u001b[0m\n",
            "[ 61%] \u001b[32m\u001b[1mLinking C executable /content/multinest/bin/eggboxC\u001b[0m\n",
            "[ 61%] Built target eggboxC\n",
            "[ 62%] \u001b[32mBuilding CXX object src/example_eggbox_C++/CMakeFiles/eggboxC++.dir/eggbox.cc.o\u001b[0m\n",
            "[ 64%] \u001b[32m\u001b[1mLinking CXX executable /content/multinest/bin/eggboxC++\u001b[0m\n",
            "[ 64%] Built target eggboxC++\n",
            "[ 65%] \u001b[32mBuilding Fortran object src/example_gaussian/CMakeFiles/gaussian.dir/params.f90.o\u001b[0m\n",
            "[ 67%] \u001b[32mBuilding Fortran object src/example_gaussian/CMakeFiles/gaussian.dir/like.f90.o\u001b[0m\n",
            "[ 68%] \u001b[32mBuilding Fortran object src/example_gaussian/CMakeFiles/gaussian.dir/nestwrap.f90.o\u001b[0m\n",
            "[ 70%] \u001b[32mBuilding Fortran object src/example_gaussian/CMakeFiles/gaussian.dir/main.f90.o\u001b[0m\n",
            "[ 71%] \u001b[32m\u001b[1mLinking Fortran executable /content/multinest/bin/gaussian\u001b[0m\n",
            "[ 71%] Built target gaussian\n",
            "[ 72%] \u001b[32mBuilding Fortran object src/example_gauss_shell/CMakeFiles/gauss_shell.dir/params.f90.o\u001b[0m\n",
            "[ 74%] \u001b[32mBuilding Fortran object src/example_gauss_shell/CMakeFiles/gauss_shell.dir/like.f90.o\u001b[0m\n",
            "[ 75%] \u001b[32mBuilding Fortran object src/example_gauss_shell/CMakeFiles/gauss_shell.dir/nestwrap.f90.o\u001b[0m\n",
            "[ 77%] \u001b[32mBuilding Fortran object src/example_gauss_shell/CMakeFiles/gauss_shell.dir/main.f90.o\u001b[0m\n",
            "[ 78%] \u001b[32m\u001b[1mLinking Fortran executable /content/multinest/bin/gauss_shell\u001b[0m\n",
            "[ 78%] Built target gauss_shell\n",
            "[ 80%] \u001b[32mBuilding Fortran object src/example_himmelblau/CMakeFiles/himmelblau.dir/params.f90.o\u001b[0m\n",
            "[ 81%] \u001b[32mBuilding Fortran object src/example_himmelblau/CMakeFiles/himmelblau.dir/like.f90.o\u001b[0m\n",
            "[ 82%] \u001b[32mBuilding Fortran object src/example_himmelblau/CMakeFiles/himmelblau.dir/nestwrap.f90.o\u001b[0m\n",
            "[ 84%] \u001b[32mBuilding Fortran object src/example_himmelblau/CMakeFiles/himmelblau.dir/main.f90.o\u001b[0m\n",
            "[ 85%] \u001b[32m\u001b[1mLinking Fortran executable /content/multinest/bin/himmelblau\u001b[0m\n",
            "[ 85%] Built target himmelblau\n",
            "[ 87%] \u001b[32mBuilding Fortran object src/example_obj_detect/CMakeFiles/obj_detect.dir/params.f90.o\u001b[0m\n",
            "[ 88%] \u001b[32mBuilding Fortran object src/example_obj_detect/CMakeFiles/obj_detect.dir/like.f90.o\u001b[0m\n",
            "[ 90%] \u001b[32mBuilding Fortran object src/example_obj_detect/CMakeFiles/obj_detect.dir/nestwrap.f90.o\u001b[0m\n",
            "[ 91%] \u001b[32mBuilding Fortran object src/example_obj_detect/CMakeFiles/obj_detect.dir/main.f90.o\u001b[0m\n",
            "[ 92%] \u001b[32m\u001b[1mLinking Fortran executable /content/multinest/bin/obj_detect\u001b[0m\n",
            "[ 92%] Built target obj_detect\n",
            "[ 94%] \u001b[32mBuilding Fortran object src/example_rosenbrock/CMakeFiles/rosenbrock.dir/params.f90.o\u001b[0m\n",
            "[ 95%] \u001b[32mBuilding Fortran object src/example_rosenbrock/CMakeFiles/rosenbrock.dir/like.f90.o\u001b[0m\n",
            "[ 97%] \u001b[32mBuilding Fortran object src/example_rosenbrock/CMakeFiles/rosenbrock.dir/nestwrap.f90.o\u001b[0m\n",
            "[ 98%] \u001b[32mBuilding Fortran object src/example_rosenbrock/CMakeFiles/rosenbrock.dir/main.f90.o\u001b[0m\n",
            "[100%] \u001b[32m\u001b[1mLinking Fortran executable /content/multinest/bin/rosenbrock\u001b[0m\n",
            "[100%] Built target rosenbrock\n",
            "[ 12%] Built target multinest_static\n",
            "[ 25%] Built target multinest_shared\n",
            "[ 38%] Built target multinest_mpi_static\n",
            "[ 51%] Built target multinest_mpi_shared\n",
            "[ 58%] Built target ackley\n",
            "[ 61%] Built target eggboxC\n",
            "[ 64%] Built target eggboxC++\n",
            "[ 71%] Built target gaussian\n",
            "[ 78%] Built target gauss_shell\n",
            "[ 85%] Built target himmelblau\n",
            "[ 92%] Built target obj_detect\n",
            "[100%] Built target rosenbrock\n",
            "\u001b[36mInstall the project...\u001b[0m\n",
            "-- Install configuration: \"\"\n",
            "-- Installing: /usr/local/lib/libmultinest.a\n",
            "-- Installing: /usr/local/lib/libmultinest.so.3.10\n",
            "-- Set runtime path of \"/usr/local/lib/libmultinest.so.3.10\" to \"\"\n",
            "-- Installing: /usr/local/lib/libmultinest.so\n",
            "-- Installing: /usr/local/lib/libmultinest_mpi.a\n",
            "-- Installing: /usr/local/lib/libmultinest_mpi.so.3.10\n",
            "-- Set runtime path of \"/usr/local/lib/libmultinest_mpi.so.3.10\" to \"\"\n",
            "-- Installing: /usr/local/lib/libmultinest_mpi.so\n",
            "-- Installing: /usr/local/modules/kmeans_clstr.mod\n",
            "-- Installing: /usr/local/modules/nested.mod\n",
            "-- Installing: /usr/local/modules/posterior.mod\n",
            "-- Installing: /usr/local/modules/priors.mod\n",
            "-- Installing: /usr/local/modules/randomns.mod\n",
            "-- Installing: /usr/local/modules/utils1.mod\n",
            "-- Installing: /usr/local/modules/xmeans_clstr.mod\n",
            "-- Installing: /usr/local/include/multinest.h\n",
            "-- Installing: /usr/local/CMakeModules/FindMultiNest.cmake\n",
            "-- Installing: /usr/local/bin/chains\n",
            "-- Installing: /usr/local/bin/chains/.gitignore\n",
            "-- Installing: /usr/local/bin/ackley\n",
            "-- Set runtime path of \"/usr/local/bin/ackley\" to \"/usr/local/lib:/usr/lib/x86_64-linux-gnu/openmpi/lib\"\n",
            "-- Installing: /usr/local/bin/eggboxC\n",
            "-- Set runtime path of \"/usr/local/bin/eggboxC\" to \"/usr/local/lib:/usr/lib/x86_64-linux-gnu/openmpi/lib\"\n",
            "-- Installing: /usr/local/bin/eggboxC++\n",
            "-- Set runtime path of \"/usr/local/bin/eggboxC++\" to \"/usr/local/lib:/usr/lib/x86_64-linux-gnu/openmpi/lib\"\n",
            "-- Installing: /usr/local/bin/gaussian\n",
            "-- Set runtime path of \"/usr/local/bin/gaussian\" to \"/usr/local/lib:/usr/lib/x86_64-linux-gnu/openmpi/lib\"\n",
            "-- Installing: /usr/local/bin/gauss_shell\n",
            "-- Set runtime path of \"/usr/local/bin/gauss_shell\" to \"/usr/local/lib:/usr/lib/x86_64-linux-gnu/openmpi/lib\"\n",
            "-- Installing: /usr/local/bin/himmelblau\n",
            "-- Set runtime path of \"/usr/local/bin/himmelblau\" to \"/usr/local/lib:/usr/lib/x86_64-linux-gnu/openmpi/lib\"\n",
            "-- Installing: /usr/local/bin/obj_detect\n",
            "-- Set runtime path of \"/usr/local/bin/obj_detect\" to \"/usr/local/lib:/usr/lib/x86_64-linux-gnu/openmpi/lib\"\n",
            "-- Installing: /usr/local/bin/rosenbrock\n",
            "-- Set runtime path of \"/usr/local/bin/rosenbrock\" to \"/usr/local/lib:/usr/lib/x86_64-linux-gnu/openmpi/lib\"\n"
          ]
        }
      ]
    },
    {
      "cell_type": "markdown",
      "source": [
        "#### Installing petitRADTRANS from PyPI.\n",
        "Next, we will install petitRADTRANS from PyPI, this can simply be done via pip install, so please run the code cell below. This will also install PyMultiNest, since it is a requirement of pRT.\n",
        "\n",
        "&#128992; **Run this cell if you are running on Colab**"
      ],
      "metadata": {
        "id": "yEQKF9vBGDYG"
      }
    },
    {
      "cell_type": "code",
      "source": [
        "import numpy as np\n",
        "!pip install --no-cache-dir -U petitRADTRANS"
      ],
      "metadata": {
        "id": "uTd9PGbcGLJK",
        "colab": {
          "base_uri": "https://localhost:8080/"
        },
        "outputId": "bf4f36d2-05a2-40fa-aa10-784bb1cd711a"
      },
      "execution_count": null,
      "outputs": [
        {
          "output_type": "stream",
          "name": "stdout",
          "text": [
            "Collecting petitRADTRANS\n",
            "  Downloading petitRADTRANS-2.6.7.tar.gz (193 kB)\n",
            "\u001b[2K     \u001b[90m━━━━━━━━━━━━━━━━━━━━━━━━━━━━━━━━━━━━━━━\u001b[0m \u001b[32m193.0/193.0 kB\u001b[0m \u001b[31m5.0 MB/s\u001b[0m eta \u001b[36m0:00:00\u001b[0m\n",
            "\u001b[?25h  Preparing metadata (setup.py) ... \u001b[?25l\u001b[?25hdone\n",
            "Requirement already satisfied: numpy in /usr/local/lib/python3.10/dist-packages (from petitRADTRANS) (1.22.4)\n",
            "Requirement already satisfied: scipy in /usr/local/lib/python3.10/dist-packages (from petitRADTRANS) (1.10.1)\n",
            "Requirement already satisfied: matplotlib in /usr/local/lib/python3.10/dist-packages (from petitRADTRANS) (3.7.1)\n",
            "Requirement already satisfied: h5py in /usr/local/lib/python3.10/dist-packages (from petitRADTRANS) (3.8.0)\n",
            "Collecting corner (from petitRADTRANS)\n",
            "  Downloading corner-2.2.2-py3-none-any.whl (15 kB)\n",
            "Requirement already satisfied: astropy in /usr/local/lib/python3.10/dist-packages (from petitRADTRANS) (5.2.2)\n",
            "Collecting exo_k (from petitRADTRANS)\n",
            "  Downloading exo_k-1.2.1-py3-none-any.whl (174 kB)\n",
            "\u001b[2K     \u001b[90m━━━━━━━━━━━━━━━━━━━━━━━━━━━━━━━━━━━━━\u001b[0m \u001b[32m174.3/174.3 kB\u001b[0m \u001b[31m173.8 MB/s\u001b[0m eta \u001b[36m0:00:00\u001b[0m\n",
            "\u001b[?25hCollecting molmass (from petitRADTRANS)\n",
            "  Downloading molmass-2023.4.10-py3-none-any.whl (74 kB)\n",
            "\u001b[2K     \u001b[90m━━━━━━━━━━━━━━━━━━━━━━━━━━━━━━━━━━━━━━━\u001b[0m \u001b[32m74.4/74.4 kB\u001b[0m \u001b[31m144.9 MB/s\u001b[0m eta \u001b[36m0:00:00\u001b[0m\n",
            "\u001b[?25hRequirement already satisfied: seaborn in /usr/local/lib/python3.10/dist-packages (from petitRADTRANS) (0.12.2)\n",
            "Collecting pymultinest (from petitRADTRANS)\n",
            "  Downloading pymultinest-2.11-py2.py3-none-any.whl (50 kB)\n",
            "\u001b[2K     \u001b[90m━━━━━━━━━━━━━━━━━━━━━━━━━━━━━━━━━━━━━━━\u001b[0m \u001b[32m50.7/50.7 kB\u001b[0m \u001b[31m113.7 MB/s\u001b[0m eta \u001b[36m0:00:00\u001b[0m\n",
            "\u001b[?25hRequirement already satisfied: pyerfa>=2.0 in /usr/local/lib/python3.10/dist-packages (from astropy->petitRADTRANS) (2.0.0.3)\n",
            "Requirement already satisfied: PyYAML>=3.13 in /usr/local/lib/python3.10/dist-packages (from astropy->petitRADTRANS) (6.0.1)\n",
            "Requirement already satisfied: packaging>=19.0 in /usr/local/lib/python3.10/dist-packages (from astropy->petitRADTRANS) (23.1)\n",
            "Requirement already satisfied: contourpy>=1.0.1 in /usr/local/lib/python3.10/dist-packages (from matplotlib->petitRADTRANS) (1.1.0)\n",
            "Requirement already satisfied: cycler>=0.10 in /usr/local/lib/python3.10/dist-packages (from matplotlib->petitRADTRANS) (0.11.0)\n",
            "Requirement already satisfied: fonttools>=4.22.0 in /usr/local/lib/python3.10/dist-packages (from matplotlib->petitRADTRANS) (4.41.1)\n",
            "Requirement already satisfied: kiwisolver>=1.0.1 in /usr/local/lib/python3.10/dist-packages (from matplotlib->petitRADTRANS) (1.4.4)\n",
            "Requirement already satisfied: pillow>=6.2.0 in /usr/local/lib/python3.10/dist-packages (from matplotlib->petitRADTRANS) (9.4.0)\n",
            "Requirement already satisfied: pyparsing>=2.3.1 in /usr/local/lib/python3.10/dist-packages (from matplotlib->petitRADTRANS) (3.1.0)\n",
            "Requirement already satisfied: python-dateutil>=2.7 in /usr/local/lib/python3.10/dist-packages (from matplotlib->petitRADTRANS) (2.8.2)\n",
            "Collecting llvmlite>=0.40.0 (from exo_k->petitRADTRANS)\n",
            "  Downloading llvmlite-0.40.1-cp310-cp310-manylinux_2_17_x86_64.manylinux2014_x86_64.whl (42.1 MB)\n",
            "\u001b[2K     \u001b[90m━━━━━━━━━━━━━━━━━━━━━━━━━━━━━━━━━━━━━━━\u001b[0m \u001b[32m42.1/42.1 MB\u001b[0m \u001b[31m105.7 MB/s\u001b[0m eta \u001b[36m0:00:00\u001b[0m\n",
            "\u001b[?25hCollecting numba>=0.57.0 (from exo_k->petitRADTRANS)\n",
            "  Downloading numba-0.57.1-cp310-cp310-manylinux2014_x86_64.manylinux_2_17_x86_64.whl (3.6 MB)\n",
            "\u001b[2K     \u001b[90m━━━━━━━━━━━━━━━━━━━━━━━━━━━━━━━━━━━━━━━━\u001b[0m \u001b[32m3.6/3.6 MB\u001b[0m \u001b[31m256.1 MB/s\u001b[0m eta \u001b[36m0:00:00\u001b[0m\n",
            "\u001b[?25hCollecting pandas>=2.0.2 (from exo_k->petitRADTRANS)\n",
            "  Downloading pandas-2.0.3-cp310-cp310-manylinux_2_17_x86_64.manylinux2014_x86_64.whl (12.3 MB)\n",
            "\u001b[2K     \u001b[90m━━━━━━━━━━━━━━━━━━━━━━━━━━━━━━━━━━━━━━━\u001b[0m \u001b[32m12.3/12.3 MB\u001b[0m \u001b[31m182.1 MB/s\u001b[0m eta \u001b[36m0:00:00\u001b[0m\n",
            "\u001b[?25hRequirement already satisfied: pytz>=2020.1 in /usr/local/lib/python3.10/dist-packages (from pandas>=2.0.2->exo_k->petitRADTRANS) (2022.7.1)\n",
            "Collecting tzdata>=2022.1 (from pandas>=2.0.2->exo_k->petitRADTRANS)\n",
            "  Downloading tzdata-2023.3-py2.py3-none-any.whl (341 kB)\n",
            "\u001b[2K     \u001b[90m━━━━━━━━━━━━━━━━━━━━━━━━━━━━━━━━━━━━━\u001b[0m \u001b[32m341.8/341.8 kB\u001b[0m \u001b[31m213.0 MB/s\u001b[0m eta \u001b[36m0:00:00\u001b[0m\n",
            "\u001b[?25hRequirement already satisfied: six>=1.5 in /usr/local/lib/python3.10/dist-packages (from python-dateutil>=2.7->matplotlib->petitRADTRANS) (1.16.0)\n",
            "Building wheels for collected packages: petitRADTRANS\n",
            "  Building wheel for petitRADTRANS (setup.py) ... \u001b[?25l\u001b[?25hdone\n",
            "  Created wheel for petitRADTRANS: filename=petitRADTRANS-2.6.7-cp310-cp310-linux_x86_64.whl size=966415 sha256=ee2f234d492641e9b4c9172018f59830c3bdaafb74f6984cc57267261a2f63e2\n",
            "  Stored in directory: /tmp/pip-ephem-wheel-cache-v2izpawp/wheels/01/7a/12/d58563fe6b033aed09769796dc68eedcf6b052fc2c85df35c5\n",
            "Successfully built petitRADTRANS\n",
            "Installing collected packages: pymultinest, tzdata, molmass, llvmlite, pandas, numba, exo_k, corner, petitRADTRANS\n",
            "  Attempting uninstall: llvmlite\n",
            "    Found existing installation: llvmlite 0.39.1\n",
            "    Uninstalling llvmlite-0.39.1:\n",
            "      Successfully uninstalled llvmlite-0.39.1\n",
            "  Attempting uninstall: pandas\n",
            "    Found existing installation: pandas 1.5.3\n",
            "    Uninstalling pandas-1.5.3:\n",
            "      Successfully uninstalled pandas-1.5.3\n",
            "  Attempting uninstall: numba\n",
            "    Found existing installation: numba 0.56.4\n",
            "    Uninstalling numba-0.56.4:\n",
            "      Successfully uninstalled numba-0.56.4\n",
            "\u001b[31mERROR: pip's dependency resolver does not currently take into account all the packages that are installed. This behaviour is the source of the following dependency conflicts.\n",
            "google-colab 1.0.0 requires pandas==1.5.3, but you have pandas 2.0.3 which is incompatible.\u001b[0m\u001b[31m\n",
            "\u001b[0mSuccessfully installed corner-2.2.2 exo_k-1.2.1 llvmlite-0.40.1 molmass-2023.4.10 numba-0.57.1 pandas-2.0.3 petitRADTRANS-2.6.7 pymultinest-2.11 tzdata-2023.3\n"
          ]
        }
      ]
    },
    {
      "cell_type": "markdown",
      "source": [
        "### 1.2.1 &#128309; If running on your computer:\n",
        "If you do not yet have a working pRT installation, please follow the installation instructions given on the [pRT website](https://petitradtrans.readthedocs.io/en/latest/content/installation.html). Please note that while installing pRT *can* go very smoothly, depending on your operating system and on whether you have an Apple chip (M1 or M2) in your Mac, things can become more complicated. While pRT has been developed using a Mac (Intel chip) and Linux, users have contributed various instructions for installing pRT on other operating systems (Mac with Apple Chips, Windows). You will find detailed descriptions of the installation process on the [pRT website](https://petitradtrans.readthedocs.io/en/latest/content/installation.html). With around 1000 registered participants, we ask for your understanding that we cannot help you installing pRT if you run into problems during the workshop. So, please, if installing pRT on your machine does not work at the moment, use the notebooks on Google Colab instead.\n"
      ],
      "metadata": {
        "id": "bdOND6ShztuM"
      }
    },
    {
      "cell_type": "markdown",
      "source": [
        "## 1.3 Testing the pRT installation."
      ],
      "metadata": {
        "id": "S6jfjaszH-N-"
      }
    },
    {
      "cell_type": "markdown",
      "source": [
        "First we need to tell pRT where the input data is, we do this by letting the `pRT_input_data_path` environment variable point to that folder."
      ],
      "metadata": {
        "id": "xqENO-1LITia"
      }
    },
    {
      "cell_type": "markdown",
      "source": [
        "### 1.3.1 &#128992; If running on Colab:\n",
        "\n",
        "&#128992; **Run this cell if you are running on Colab**"
      ],
      "metadata": {
        "id": "y9pLMAog6pjN"
      }
    },
    {
      "cell_type": "code",
      "source": [
        "import os\n",
        "os.environ['pRT_input_data_path'] = \\\n",
        "                  pRT_path+'/pRT_retrieval_SSW/input_data'"
      ],
      "metadata": {
        "id": "h0je0mdlICa9"
      },
      "execution_count": null,
      "outputs": []
    },
    {
      "cell_type": "markdown",
      "source": [
        "### 1.3.1 &#128309; If running on your computer:\n",
        "Since we are using a dedicated input data folder for the hands-on session, please modify the `RT_input_data_path` for this notebook session, by pointing to the absolute path you specified above.\n",
        "\n",
        "&#128309; **Run this cell if running on your computer (not Colab!)**"
      ],
      "metadata": {
        "id": "PYv4vU-d6zJL"
      }
    },
    {
      "cell_type": "code",
      "source": [
        "import os\n",
        "os.environ['pRT_input_data_path'] = \\\n",
        "    os.path.join(absolute_path_to_the_data_folder_on_your_machine, \\\n",
        "                 'pRT_retrieval_SSW/input_data')"
      ],
      "metadata": {
        "id": "PgsqDA_W7PuV"
      },
      "execution_count": null,
      "outputs": []
    },
    {
      "cell_type": "markdown",
      "source": [
        "### 1.3.2 Calculating a spectrum with pRT"
      ],
      "metadata": {
        "id": "TDkoMWmZ8iQ-"
      }
    },
    {
      "cell_type": "markdown",
      "source": [
        "Now we will run a short snippet to generate a pRT transmission spectrum. The meaning of the individual steps will be explained in more detail later. If all goes well, it should plot a planetary transmission spectrum (note it will take a few seconds to import the pRT package)."
      ],
      "metadata": {
        "id": "o6Bk_pn9Jk5M"
      }
    },
    {
      "cell_type": "code",
      "source": [
        "from matplotlib import pyplot as plt\n",
        "import numpy as np\n",
        "from petitRADTRANS import Radtrans\n",
        "from petitRADTRANS import nat_cst as nc\n",
        "\n",
        "atmosphere = Radtrans(line_species = ['H2O_Exomol_R_200',\n",
        "                                      'CO_all_iso_HITEMP_R_200',\n",
        "                                      'CH4_hargreaves_R_200',\n",
        "                                      'CO2_R_200',\n",
        "                                      'SO2_R_200'],\n",
        "                      rayleigh_species = ['H2', 'He'],\n",
        "                      continuum_opacities = ['H2-H2', 'H2-He'],\n",
        "                      wlen_bords_micron = [2.25, 6])\n",
        "\n",
        "pressures = np.logspace(-6, 2, 100)\n",
        "atmosphere.setup_opa_structure(pressures)\n",
        "\n",
        "temperature = 1200. * np.ones_like(pressures)\n",
        "\n",
        "mass_fractions = {}\n",
        "mass_fractions['H2'] = 0.74 * np.ones_like(temperature)\n",
        "mass_fractions['He'] = 0.24 * np.ones_like(temperature)\n",
        "mass_fractions['H2O'] = 0.001 * np.ones_like(temperature)\n",
        "mass_fractions['CO'] = 0.005 * np.ones_like(temperature)\n",
        "mass_fractions['CO2'] = 0.00001 * np.ones_like(temperature)\n",
        "mass_fractions['SO2'] = 0.00001 * np.ones_like(temperature)\n",
        "mass_fractions['CH4'] = 0.000001 * np.ones_like(temperature)\n",
        "\n",
        "MMW = 2.33 * np.ones_like(temperature)\n",
        "\n",
        "R_pl = 1.6*nc.r_jup_mean\n",
        "gravity = 1e1**3.\n",
        "P0 = 0.01\n",
        "\n",
        "atmosphere.calc_transm(temperature, mass_fractions, gravity, MMW, R_pl=R_pl, P0_bar=P0)\n",
        "\n",
        "plt.rcParams['figure.figsize'] = (10, 6)\n",
        "\n",
        "plt.plot(nc.c/atmosphere.freq/1e-4, atmosphere.transm_rad/nc.r_jup_mean)\n",
        "\n",
        "plt.xlabel('Wavelength (microns)')\n",
        "plt.ylabel(r'Transit radius ($\\rm R_{Jup}$)')\n",
        "plt.show()"
      ],
      "metadata": {
        "id": "WgR2fRWfIfK2",
        "colab": {
          "base_uri": "https://localhost:8080/",
          "height": 850
        },
        "outputId": "d67c273b-21db-4f17-c6ab-33e50b6cafe4"
      },
      "execution_count": null,
      "outputs": [
        {
          "output_type": "stream",
          "name": "stderr",
          "text": [
            "/usr/local/lib/python3.10/dist-packages/petitRADTRANS/radtrans.py:119: FutureWarning: pRT_input_data_path was set by an environment variable. In a future update, the path to the petitRADTRANS input_data will be set within a .ini file that will be automatically generated into the user home directory (OS agnostic), inside a .petitradtrans directory\n",
            "  warnings.warn(f\"pRT_input_data_path was set by an environment variable. In a future update, the path to \"\n"
          ]
        },
        {
          "output_type": "stream",
          "name": "stdout",
          "text": [
            "  Read line opacities of H2O_Exomol_R_200...\n",
            " Done.\n",
            "  Read line opacities of CO_all_iso_HITEMP_R_200...\n",
            " Done.\n",
            "  Read line opacities of CH4_hargreaves_R_200...\n",
            " Done.\n",
            "  Read line opacities of CO2_R_200...\n",
            " Done.\n",
            "  Read line opacities of SO2_R_200...\n",
            " Done.\n",
            "\n",
            "  Read CIA opacities for H2-H2...\n",
            "  Read CIA opacities for H2-He...\n",
            "Done.\n",
            "\n"
          ]
        },
        {
          "output_type": "display_data",
          "data": {
            "text/plain": [
              "<Figure size 1000x600 with 1 Axes>"
            ],
            "image/png": "[encoded data removed]"
          },
          "metadata": {}
        }
      ]
    },
    {
      "cell_type": "markdown",
      "source": [
        "## 1.4 Testing the MultiNest installation\n",
        "The snippet below tests whether PyMultiNest works as intended. Simply run it and check that you don't get any errors (note that you may get a \"divide by zero encountered\" warning). This test is taken from Johannes Buchner's [PyMultiNest tutorial](http://johannesbuchner.github.io/pymultinest-tutorial/)."
      ],
      "metadata": {
        "id": "ddilzWaKvMRi"
      }
    },
    {
      "cell_type": "code",
      "source": [
        "import json\n",
        "from numpy import log, exp, pi\n",
        "import scipy.stats, scipy\n",
        "import pymultinest\n",
        "import matplotlib.pyplot as plt\n",
        "\n",
        "# Note for Colab users - creates the directory in the runtime, not persistent in Drive\n",
        "! mkdir PMN_test_run\n",
        "! mkdir PMN_test_run/out\n",
        "\n",
        "os.chdir('PMN_test_run')\n",
        "\n",
        "def prior(cube, ndim, nparams):\n",
        "\tcube[0] = cube[0] * 2\n",
        "\n",
        "positions = np.array([0.1, 0.2, 0.5, 0.55, 0.9, 1.1])\n",
        "width = 0.01\n",
        "\n",
        "def loglike(cube, ndim, nparams):\n",
        "\t# get the current parameter (is between 0:2 now)\n",
        "\tpos = cube[0]\n",
        "\tlikelihood = exp(-0.5 * ((pos - positions) / width)**2) / (2*pi*width**2)**0.5\n",
        "\treturn log(likelihood.mean())\n",
        "\n",
        "parameters = [\"position\"]\n",
        "n_params = len(parameters)\n",
        "\n",
        "pymultinest.run(loglike, prior, n_params, outputfiles_basename='out/',\n",
        "\tresume = False, verbose = True)\n",
        "json.dump(parameters, open('out/params.json', 'w'))\n",
        "\n",
        "!multinest_marginals.py out/\n",
        "\n",
        "from IPython.display import Image\n",
        "Image('out/marg.png')"
      ],
      "metadata": {
        "id": "SWyeFLaPJxaJ",
        "colab": {
          "base_uri": "https://localhost:8080/",
          "height": 673
        },
        "outputId": "05d33477-1e21-4b67-cc23-271d36beabde"
      },
      "execution_count": null,
      "outputs": [
        {
          "output_type": "stream",
          "name": "stderr",
          "text": [
            "<ipython-input-8-cf282a6525e5>:23: RuntimeWarning: divide by zero encountered in log\n",
            "  return log(likelihood.mean())\n"
          ]
        },
        {
          "output_type": "stream",
          "name": "stdout",
          "text": [
            "model \"out/\"\n",
            "  analysing data from out/.txt\n",
            "  marginal likelihood:\n",
            "    ln Z = -0.7 +- 0.0\n",
            "  parameters:\n",
            "    position       0.53 +- 0.45\n",
            "creating marginal plot ...\n"
          ]
        },
        {
          "output_type": "execute_result",
          "data": {
            "image/png": "[encoded data removed]",
            "text/plain": [
              "<IPython.core.display.Image object>"
            ]
          },
          "metadata": {},
          "execution_count": 8
        }
      ]
    },
    {
      "cell_type": "code",
      "source": [
        "# go back up a directory\n",
        "os.chdir('../')"
      ],
      "metadata": {
        "id": "PZyL_FOt9XCe"
      },
      "execution_count": null,
      "outputs": []
    },
    {
      "cell_type": "markdown",
      "source": [
        "# 2. During the Hands-on session IV exercises: how to start\n",
        "The retrieval hands-on session has two parts. Both parts consist of a notebook. In the first you will learn how to use pRT. The second notebook focuses on how to run retrievals. The idea is that you read through the notebooks, run the provided code cells and complete the exercises which consist of filling in blank code lines. At the end of the hands on session you will have run your own retrieval on actual JWST observations! Please click the links provided below to start with the hands-on session notebooks and save a copy in  your own Google Drive. Please stick to the order, since the second nodebook builds on the knowledge you gain in the first!\n",
        "1. [Exercise notebook: an introduction to pRT](https://colab.research.google.com/drive/1CzyrIXuYqqbsD1tQCVyGBuPxbQZRzkZK?usp=sharing)\n",
        "2. [Exercise notebook: running retrievals on JWST data](https://colab.research.google.com/drive/1YL30vMtqEf3iLZItLPib3QTtZ4xyFT7X?usp=sharing)"
      ],
      "metadata": {
        "id": "LOg0KCB6xKH-"
      }
    }
  ]
}