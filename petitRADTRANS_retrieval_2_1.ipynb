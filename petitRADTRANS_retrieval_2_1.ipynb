{
  "cells": [
    {
      "cell_type": "markdown",
      "source": [
        "## Google Colab Usage\n",
        "\n",
        "\n",
        "\n",
        "**Confirm login account**\n",
        "* Please make sure to be logged in with the Google account you want to use for the exercises before running the code cells below. You can check by clicking the circular account icon in the top right corner of the colab notebook.\n",
        "\n",
        "**Working directory**\n",
        "* Note: The software and data will be installed in a directory called \"SSW2023/pRT\" in your Google drive. This directory will be created if it does not exist.\n",
        "\n",
        "**Running cells**\n",
        "* Run cells individually by clicking on the triangle on each cell\n",
        "\n",
        "**To Restart runtime**\n",
        "*   Click on Runtime menu item\n",
        "*   Select Restart runtime\n",
        "*   Select Run code cells individually from the top\n",
        "\n",
        "**To Recreate runtime**\n",
        "*   Click on Runtime menu item\n",
        "*   Select Disconnect and Delete runtime\n",
        "*   Select Run code cells individually from the top\n",
        "\n",
        "**To Exit:**\n",
        "*   Close the browser window"
      ],
      "metadata": {
        "id": "Nn23DWq9HSml"
      }
    },
    {
      "cell_type": "markdown",
      "source": [
        "# &#128992; When running on Colab: pRT installation and setup\n",
        "\n",
        "This cell installs everything you need in Colab, as explained in the hands-on session's documentation.\n",
        "\n",
        "&#128992; **Run this cell if you are running on Colab**"
      ],
      "metadata": {
        "id": "kIxhwK73q6DS"
      }
    },
    {
      "cell_type": "code",
      "execution_count": null,
      "metadata": {
        "id": "0KVCy5gZa-Ef",
        "colab": {
          "base_uri": "https://localhost:8080/"
        },
        "outputId": "4d2d1408-b64a-4846-eb5d-0eeb5a272d4c"
      },
      "outputs": [
        {
          "output_type": "stream",
          "name": "stdout",
          "text": [
            "Cloning into 'multinest'...\n",
            "warning: redirecting to https://github.com/johannesbuchner/multinest.git/\n",
            "remote: Enumerating objects: 549, done.\u001b[K\n",
            "remote: Counting objects: 100% (118/118), done.\u001b[K\n",
            "remote: Compressing objects: 100% (98/98), done.\u001b[K\n",
            "remote: Total 549 (delta 65), reused 49 (delta 19), pack-reused 431\u001b[K\n",
            "Receiving objects: 100% (549/549), 300.02 KiB | 5.26 MiB/s, done.\n",
            "Resolving deltas: 100% (342/342), done.\n",
            "-- The Fortran compiler identification is GNU 11.3.0\n",
            "-- The C compiler identification is GNU 11.3.0\n",
            "-- The CXX compiler identification is GNU 11.3.0\n",
            "-- Detecting Fortran compiler ABI info\n",
            "-- Detecting Fortran compiler ABI info - done\n",
            "-- Check for working Fortran compiler: /usr/bin/f95 - skipped\n",
            "-- Detecting C compiler ABI info\n",
            "-- Detecting C compiler ABI info - done\n",
            "-- Check for working C compiler: /usr/bin/cc - skipped\n",
            "-- Detecting C compile features\n",
            "-- Detecting C compile features - done\n",
            "-- Detecting CXX compiler ABI info\n",
            "-- Detecting CXX compiler ABI info - done\n",
            "-- Check for working CXX compiler: /usr/bin/c++ - skipped\n",
            "-- Detecting CXX compile features\n",
            "-- Detecting CXX compile features - done\n",
            "-- Looking for Fortran sgemm\n",
            "-- Looking for Fortran sgemm - not found\n",
            "-- Performing Test CMAKE_HAVE_LIBC_PTHREAD\n",
            "-- Performing Test CMAKE_HAVE_LIBC_PTHREAD - Success\n",
            "-- Found Threads: TRUE  \n",
            "-- Looking for Fortran sgemm\n",
            "-- Looking for Fortran sgemm - found\n",
            "-- Found BLAS: /usr/local/lib/libmkl_gf_lp64.so;/usr/local/lib/libmkl_gnu_thread.so;/usr/local/lib/libmkl_core.so;/usr/lib/gcc/x86_64-linux-gnu/11/libgomp.so;-lm;-ldl  \n",
            "-- Looking for Fortran cheev\n",
            "-- Looking for Fortran cheev - found\n",
            "-- Found LAPACK: /usr/local/lib/libmkl_gf_lp64.so;/usr/local/lib/libmkl_gnu_thread.so;/usr/local/lib/libmkl_core.so;/usr/lib/gcc/x86_64-linux-gnu/11/libgomp.so;-lm;-ldl;-lm;-ldl  \n",
            "-- Detected gfortran, adding -ffree-line-length-none compiler flag.\n",
            "-- Detected gfortran >= 10, adding -std=legacy compiler flag.\n",
            "-- Detected gfortran-10+, adding -w -fallow-argument-mismatch compiler flag.\n",
            "-- Found MPI_C: /usr/lib/x86_64-linux-gnu/openmpi/lib/libmpi.so (found version \"3.1\") \n",
            "-- Found MPI_CXX: /usr/lib/x86_64-linux-gnu/openmpi/lib/libmpi_cxx.so (found version \"3.1\") \n",
            "-- Found MPI_Fortran: /usr/lib/x86_64-linux-gnu/libmpi_usempif08.so (found version \"3.1\") \n",
            "-- Found MPI: TRUE (found version \"3.1\")  \n",
            "-- Configuring done\n",
            "-- Generating done\n",
            "-- Build files have been written to: /content/multinest/build\n",
            "[  1%] \u001b[32mBuilding Fortran object src/CMakeFiles/multinest_static.dir/utils.f90.o\u001b[0m\n",
            "[  2%] \u001b[32mBuilding Fortran object src/CMakeFiles/multinest_static.dir/utils1.f90.o\u001b[0m\n",
            "[  4%] \u001b[32mBuilding Fortran object src/CMakeFiles/multinest_static.dir/kmeans_clstr.f90.o\u001b[0m\n",
            "[  5%] \u001b[32mBuilding Fortran object src/CMakeFiles/multinest_static.dir/xmeans_clstr.f90.o\u001b[0m\n",
            "[  7%] \u001b[32mBuilding Fortran object src/CMakeFiles/multinest_static.dir/posterior.F90.o\u001b[0m\n",
            "[  8%] \u001b[32mBuilding Fortran object src/CMakeFiles/multinest_static.dir/priors.f90.o\u001b[0m\n",
            "[ 10%] \u001b[32mBuilding Fortran object src/CMakeFiles/multinest_static.dir/nested.F90.o\u001b[0m\n",
            "[ 11%] \u001b[32mBuilding Fortran object src/CMakeFiles/multinest_static.dir/cwrapper.f90.o\u001b[0m\n",
            "[ 12%] \u001b[32m\u001b[1mLinking Fortran static library /content/multinest/lib/libmultinest.a\u001b[0m\n",
            "[ 12%] Built target multinest_static\n",
            "[ 14%] \u001b[32mBuilding Fortran object src/CMakeFiles/multinest_shared.dir/utils.f90.o\u001b[0m\n",
            "[ 15%] \u001b[32mBuilding Fortran object src/CMakeFiles/multinest_shared.dir/utils1.f90.o\u001b[0m\n",
            "[ 17%] \u001b[32mBuilding Fortran object src/CMakeFiles/multinest_shared.dir/kmeans_clstr.f90.o\u001b[0m\n",
            "[ 18%] \u001b[32mBuilding Fortran object src/CMakeFiles/multinest_shared.dir/xmeans_clstr.f90.o\u001b[0m\n",
            "[ 20%] \u001b[32mBuilding Fortran object src/CMakeFiles/multinest_shared.dir/posterior.F90.o\u001b[0m\n",
            "[ 21%] \u001b[32mBuilding Fortran object src/CMakeFiles/multinest_shared.dir/priors.f90.o\u001b[0m\n",
            "[ 22%] \u001b[32mBuilding Fortran object src/CMakeFiles/multinest_shared.dir/nested.F90.o\u001b[0m\n",
            "[ 24%] \u001b[32mBuilding Fortran object src/CMakeFiles/multinest_shared.dir/cwrapper.f90.o\u001b[0m\n",
            "[ 25%] \u001b[32m\u001b[1mLinking Fortran shared library /content/multinest/lib/libmultinest.so\u001b[0m\n",
            "[ 25%] Built target multinest_shared\n",
            "[ 27%] \u001b[32mBuilding Fortran object src/CMakeFiles/multinest_mpi_static.dir/utils.f90.o\u001b[0m\n",
            "[ 28%] \u001b[32mBuilding Fortran object src/CMakeFiles/multinest_mpi_static.dir/utils1.f90.o\u001b[0m\n",
            "[ 30%] \u001b[32mBuilding Fortran object src/CMakeFiles/multinest_mpi_static.dir/kmeans_clstr.f90.o\u001b[0m\n",
            "[ 31%] \u001b[32mBuilding Fortran object src/CMakeFiles/multinest_mpi_static.dir/xmeans_clstr.f90.o\u001b[0m\n",
            "[ 32%] \u001b[32mBuilding Fortran object src/CMakeFiles/multinest_mpi_static.dir/posterior.F90.o\u001b[0m\n",
            "[ 34%] \u001b[32mBuilding Fortran object src/CMakeFiles/multinest_mpi_static.dir/priors.f90.o\u001b[0m\n",
            "[ 35%] \u001b[32mBuilding Fortran object src/CMakeFiles/multinest_mpi_static.dir/nested.F90.o\u001b[0m\n",
            "[ 37%] \u001b[32mBuilding Fortran object src/CMakeFiles/multinest_mpi_static.dir/cwrapper.f90.o\u001b[0m\n",
            "[ 38%] \u001b[32m\u001b[1mLinking Fortran static library /content/multinest/lib/libmultinest_mpi.a\u001b[0m\n",
            "[ 38%] Built target multinest_mpi_static\n",
            "[ 40%] \u001b[32mBuilding Fortran object src/CMakeFiles/multinest_mpi_shared.dir/utils.f90.o\u001b[0m\n",
            "[ 41%] \u001b[32mBuilding Fortran object src/CMakeFiles/multinest_mpi_shared.dir/utils1.f90.o\u001b[0m\n",
            "[ 42%] \u001b[32mBuilding Fortran object src/CMakeFiles/multinest_mpi_shared.dir/kmeans_clstr.f90.o\u001b[0m\n",
            "[ 44%] \u001b[32mBuilding Fortran object src/CMakeFiles/multinest_mpi_shared.dir/xmeans_clstr.f90.o\u001b[0m\n",
            "[ 45%] \u001b[32mBuilding Fortran object src/CMakeFiles/multinest_mpi_shared.dir/posterior.F90.o\u001b[0m\n",
            "[ 47%] \u001b[32mBuilding Fortran object src/CMakeFiles/multinest_mpi_shared.dir/priors.f90.o\u001b[0m\n",
            "[ 48%] \u001b[32mBuilding Fortran object src/CMakeFiles/multinest_mpi_shared.dir/nested.F90.o\u001b[0m\n",
            "[ 50%] \u001b[32mBuilding Fortran object src/CMakeFiles/multinest_mpi_shared.dir/cwrapper.f90.o\u001b[0m\n",
            "[ 51%] \u001b[32m\u001b[1mLinking Fortran shared library /content/multinest/lib/libmultinest_mpi.so\u001b[0m\n",
            "[ 51%] Built target multinest_mpi_shared\n",
            "[ 52%] \u001b[32mBuilding Fortran object src/example_ackley/CMakeFiles/ackley.dir/params.f90.o\u001b[0m\n",
            "[ 54%] \u001b[32mBuilding Fortran object src/example_ackley/CMakeFiles/ackley.dir/like.f90.o\u001b[0m\n",
            "[ 55%] \u001b[32mBuilding Fortran object src/example_ackley/CMakeFiles/ackley.dir/nestwrap.f90.o\u001b[0m\n",
            "[ 57%] \u001b[32mBuilding Fortran object src/example_ackley/CMakeFiles/ackley.dir/main.f90.o\u001b[0m\n",
            "[ 58%] \u001b[32m\u001b[1mLinking Fortran executable /content/multinest/bin/ackley\u001b[0m\n",
            "[ 58%] Built target ackley\n",
            "[ 60%] \u001b[32mBuilding C object src/example_eggbox_C/CMakeFiles/eggboxC.dir/eggbox.c.o\u001b[0m\n",
            "[ 61%] \u001b[32m\u001b[1mLinking C executable /content/multinest/bin/eggboxC\u001b[0m\n",
            "[ 61%] Built target eggboxC\n",
            "[ 62%] \u001b[32mBuilding CXX object src/example_eggbox_C++/CMakeFiles/eggboxC++.dir/eggbox.cc.o\u001b[0m\n",
            "[ 64%] \u001b[32m\u001b[1mLinking CXX executable /content/multinest/bin/eggboxC++\u001b[0m\n",
            "[ 64%] Built target eggboxC++\n",
            "[ 65%] \u001b[32mBuilding Fortran object src/example_gaussian/CMakeFiles/gaussian.dir/params.f90.o\u001b[0m\n",
            "[ 67%] \u001b[32mBuilding Fortran object src/example_gaussian/CMakeFiles/gaussian.dir/like.f90.o\u001b[0m\n",
            "[ 68%] \u001b[32mBuilding Fortran object src/example_gaussian/CMakeFiles/gaussian.dir/nestwrap.f90.o\u001b[0m\n",
            "[ 70%] \u001b[32mBuilding Fortran object src/example_gaussian/CMakeFiles/gaussian.dir/main.f90.o\u001b[0m\n",
            "[ 71%] \u001b[32m\u001b[1mLinking Fortran executable /content/multinest/bin/gaussian\u001b[0m\n",
            "[ 71%] Built target gaussian\n",
            "[ 72%] \u001b[32mBuilding Fortran object src/example_gauss_shell/CMakeFiles/gauss_shell.dir/params.f90.o\u001b[0m\n",
            "[ 74%] \u001b[32mBuilding Fortran object src/example_gauss_shell/CMakeFiles/gauss_shell.dir/like.f90.o\u001b[0m\n",
            "[ 75%] \u001b[32mBuilding Fortran object src/example_gauss_shell/CMakeFiles/gauss_shell.dir/nestwrap.f90.o\u001b[0m\n",
            "[ 77%] \u001b[32mBuilding Fortran object src/example_gauss_shell/CMakeFiles/gauss_shell.dir/main.f90.o\u001b[0m\n",
            "[ 78%] \u001b[32m\u001b[1mLinking Fortran executable /content/multinest/bin/gauss_shell\u001b[0m\n",
            "[ 78%] Built target gauss_shell\n",
            "[ 80%] \u001b[32mBuilding Fortran object src/example_himmelblau/CMakeFiles/himmelblau.dir/params.f90.o\u001b[0m\n",
            "[ 81%] \u001b[32mBuilding Fortran object src/example_himmelblau/CMakeFiles/himmelblau.dir/like.f90.o\u001b[0m\n",
            "[ 82%] \u001b[32mBuilding Fortran object src/example_himmelblau/CMakeFiles/himmelblau.dir/nestwrap.f90.o\u001b[0m\n",
            "[ 84%] \u001b[32mBuilding Fortran object src/example_himmelblau/CMakeFiles/himmelblau.dir/main.f90.o\u001b[0m\n",
            "[ 85%] \u001b[32m\u001b[1mLinking Fortran executable /content/multinest/bin/himmelblau\u001b[0m\n",
            "[ 85%] Built target himmelblau\n",
            "[ 87%] \u001b[32mBuilding Fortran object src/example_obj_detect/CMakeFiles/obj_detect.dir/params.f90.o\u001b[0m\n",
            "[ 88%] \u001b[32mBuilding Fortran object src/example_obj_detect/CMakeFiles/obj_detect.dir/like.f90.o\u001b[0m\n",
            "[ 90%] \u001b[32mBuilding Fortran object src/example_obj_detect/CMakeFiles/obj_detect.dir/nestwrap.f90.o\u001b[0m\n",
            "[ 91%] \u001b[32mBuilding Fortran object src/example_obj_detect/CMakeFiles/obj_detect.dir/main.f90.o\u001b[0m\n",
            "[ 92%] \u001b[32m\u001b[1mLinking Fortran executable /content/multinest/bin/obj_detect\u001b[0m\n",
            "[ 92%] Built target obj_detect\n",
            "[ 94%] \u001b[32mBuilding Fortran object src/example_rosenbrock/CMakeFiles/rosenbrock.dir/params.f90.o\u001b[0m\n",
            "[ 95%] \u001b[32mBuilding Fortran object src/example_rosenbrock/CMakeFiles/rosenbrock.dir/like.f90.o\u001b[0m\n",
            "[ 97%] \u001b[32mBuilding Fortran object src/example_rosenbrock/CMakeFiles/rosenbrock.dir/nestwrap.f90.o\u001b[0m\n",
            "[ 98%] \u001b[32mBuilding Fortran object src/example_rosenbrock/CMakeFiles/rosenbrock.dir/main.f90.o\u001b[0m\n",
            "[100%] \u001b[32m\u001b[1mLinking Fortran executable /content/multinest/bin/rosenbrock\u001b[0m\n",
            "[100%] Built target rosenbrock\n",
            "[ 12%] Built target multinest_static\n",
            "[ 25%] Built target multinest_shared\n",
            "[ 38%] Built target multinest_mpi_static\n",
            "[ 51%] Built target multinest_mpi_shared\n",
            "[ 58%] Built target ackley\n",
            "[ 61%] Built target eggboxC\n",
            "[ 64%] Built target eggboxC++\n",
            "[ 71%] Built target gaussian\n",
            "[ 78%] Built target gauss_shell\n",
            "[ 85%] Built target himmelblau\n",
            "[ 92%] Built target obj_detect\n",
            "[100%] Built target rosenbrock\n",
            "\u001b[36mInstall the project...\u001b[0m\n",
            "-- Install configuration: \"\"\n",
            "-- Installing: /usr/local/lib/libmultinest.a\n",
            "-- Installing: /usr/local/lib/libmultinest.so.3.10\n",
            "-- Set runtime path of \"/usr/local/lib/libmultinest.so.3.10\" to \"\"\n",
            "-- Installing: /usr/local/lib/libmultinest.so\n",
            "-- Installing: /usr/local/lib/libmultinest_mpi.a\n",
            "-- Installing: /usr/local/lib/libmultinest_mpi.so.3.10\n",
            "-- Set runtime path of \"/usr/local/lib/libmultinest_mpi.so.3.10\" to \"\"\n",
            "-- Installing: /usr/local/lib/libmultinest_mpi.so\n",
            "-- Installing: /usr/local/modules/kmeans_clstr.mod\n",
            "-- Installing: /usr/local/modules/nested.mod\n",
            "-- Installing: /usr/local/modules/posterior.mod\n",
            "-- Installing: /usr/local/modules/priors.mod\n",
            "-- Installing: /usr/local/modules/randomns.mod\n",
            "-- Installing: /usr/local/modules/utils1.mod\n",
            "-- Installing: /usr/local/modules/xmeans_clstr.mod\n",
            "-- Installing: /usr/local/include/multinest.h\n",
            "-- Installing: /usr/local/CMakeModules/FindMultiNest.cmake\n",
            "-- Installing: /usr/local/bin/chains\n",
            "-- Installing: /usr/local/bin/chains/.gitignore\n",
            "-- Installing: /usr/local/bin/ackley\n",
            "-- Set runtime path of \"/usr/local/bin/ackley\" to \"/usr/local/lib:/usr/lib/x86_64-linux-gnu/openmpi/lib\"\n",
            "-- Installing: /usr/local/bin/eggboxC\n",
            "-- Set runtime path of \"/usr/local/bin/eggboxC\" to \"/usr/local/lib:/usr/lib/x86_64-linux-gnu/openmpi/lib\"\n",
            "-- Installing: /usr/local/bin/eggboxC++\n",
            "-- Set runtime path of \"/usr/local/bin/eggboxC++\" to \"/usr/local/lib:/usr/lib/x86_64-linux-gnu/openmpi/lib\"\n",
            "-- Installing: /usr/local/bin/gaussian\n",
            "-- Set runtime path of \"/usr/local/bin/gaussian\" to \"/usr/local/lib:/usr/lib/x86_64-linux-gnu/openmpi/lib\"\n",
            "-- Installing: /usr/local/bin/gauss_shell\n",
            "-- Set runtime path of \"/usr/local/bin/gauss_shell\" to \"/usr/local/lib:/usr/lib/x86_64-linux-gnu/openmpi/lib\"\n",
            "-- Installing: /usr/local/bin/himmelblau\n",
            "-- Set runtime path of \"/usr/local/bin/himmelblau\" to \"/usr/local/lib:/usr/lib/x86_64-linux-gnu/openmpi/lib\"\n",
            "-- Installing: /usr/local/bin/obj_detect\n",
            "-- Set runtime path of \"/usr/local/bin/obj_detect\" to \"/usr/local/lib:/usr/lib/x86_64-linux-gnu/openmpi/lib\"\n",
            "-- Installing: /usr/local/bin/rosenbrock\n",
            "-- Set runtime path of \"/usr/local/bin/rosenbrock\" to \"/usr/local/lib:/usr/lib/x86_64-linux-gnu/openmpi/lib\"\n",
            "Collecting petitRADTRANS\n",
            "  Downloading petitRADTRANS-2.6.7.tar.gz (193 kB)\n",
            "\u001b[2K     \u001b[90m━━━━━━━━━━━━━━━━━━━━━━━━━━━━━━━━━━━━━━━\u001b[0m \u001b[32m193.0/193.0 kB\u001b[0m \u001b[31m4.5 MB/s\u001b[0m eta \u001b[36m0:00:00\u001b[0m\n",
            "\u001b[?25h  Preparing metadata (setup.py) ... \u001b[?25l\u001b[?25hdone\n",
            "Requirement already satisfied: numpy in /usr/local/lib/python3.10/dist-packages (from petitRADTRANS) (1.22.4)\n",
            "Requirement already satisfied: scipy in /usr/local/lib/python3.10/dist-packages (from petitRADTRANS) (1.10.1)\n",
            "Requirement already satisfied: matplotlib in /usr/local/lib/python3.10/dist-packages (from petitRADTRANS) (3.7.1)\n",
            "Requirement already satisfied: h5py in /usr/local/lib/python3.10/dist-packages (from petitRADTRANS) (3.8.0)\n",
            "Collecting corner (from petitRADTRANS)\n",
            "  Downloading corner-2.2.2-py3-none-any.whl (15 kB)\n",
            "Requirement already satisfied: astropy in /usr/local/lib/python3.10/dist-packages (from petitRADTRANS) (5.2.2)\n",
            "Collecting exo_k (from petitRADTRANS)\n",
            "  Downloading exo_k-1.2.1-py3-none-any.whl (174 kB)\n",
            "\u001b[2K     \u001b[90m━━━━━━━━━━━━━━━━━━━━━━━━━━━━━━━━━━━━━\u001b[0m \u001b[32m174.3/174.3 kB\u001b[0m \u001b[31m170.7 MB/s\u001b[0m eta \u001b[36m0:00:00\u001b[0m\n",
            "\u001b[?25hCollecting molmass (from petitRADTRANS)\n",
            "  Downloading molmass-2023.4.10-py3-none-any.whl (74 kB)\n",
            "\u001b[2K     \u001b[90m━━━━━━━━━━━━━━━━━━━━━━━━━━━━━━━━━━━━━━━\u001b[0m \u001b[32m74.4/74.4 kB\u001b[0m \u001b[31m157.9 MB/s\u001b[0m eta \u001b[36m0:00:00\u001b[0m\n",
            "\u001b[?25hRequirement already satisfied: seaborn in /usr/local/lib/python3.10/dist-packages (from petitRADTRANS) (0.12.2)\n",
            "Collecting pymultinest (from petitRADTRANS)\n",
            "  Downloading pymultinest-2.11-py2.py3-none-any.whl (50 kB)\n",
            "\u001b[2K     \u001b[90m━━━━━━━━━━━━━━━━━━━━━━━━━━━━━━━━━━━━━━━\u001b[0m \u001b[32m50.7/50.7 kB\u001b[0m \u001b[31m150.9 MB/s\u001b[0m eta \u001b[36m0:00:00\u001b[0m\n",
            "\u001b[?25hRequirement already satisfied: pyerfa>=2.0 in /usr/local/lib/python3.10/dist-packages (from astropy->petitRADTRANS) (2.0.0.3)\n",
            "Requirement already satisfied: PyYAML>=3.13 in /usr/local/lib/python3.10/dist-packages (from astropy->petitRADTRANS) (6.0.1)\n",
            "Requirement already satisfied: packaging>=19.0 in /usr/local/lib/python3.10/dist-packages (from astropy->petitRADTRANS) (23.1)\n",
            "Requirement already satisfied: contourpy>=1.0.1 in /usr/local/lib/python3.10/dist-packages (from matplotlib->petitRADTRANS) (1.1.0)\n",
            "Requirement already satisfied: cycler>=0.10 in /usr/local/lib/python3.10/dist-packages (from matplotlib->petitRADTRANS) (0.11.0)\n",
            "Requirement already satisfied: fonttools>=4.22.0 in /usr/local/lib/python3.10/dist-packages (from matplotlib->petitRADTRANS) (4.41.1)\n",
            "Requirement already satisfied: kiwisolver>=1.0.1 in /usr/local/lib/python3.10/dist-packages (from matplotlib->petitRADTRANS) (1.4.4)\n",
            "Requirement already satisfied: pillow>=6.2.0 in /usr/local/lib/python3.10/dist-packages (from matplotlib->petitRADTRANS) (9.4.0)\n",
            "Requirement already satisfied: pyparsing>=2.3.1 in /usr/local/lib/python3.10/dist-packages (from matplotlib->petitRADTRANS) (3.1.0)\n",
            "Requirement already satisfied: python-dateutil>=2.7 in /usr/local/lib/python3.10/dist-packages (from matplotlib->petitRADTRANS) (2.8.2)\n",
            "Collecting llvmlite>=0.40.0 (from exo_k->petitRADTRANS)\n",
            "  Downloading llvmlite-0.40.1-cp310-cp310-manylinux_2_17_x86_64.manylinux2014_x86_64.whl (42.1 MB)\n",
            "\u001b[2K     \u001b[90m━━━━━━━━━━━━━━━━━━━━━━━━━━━━━━━━━━━━━━━\u001b[0m \u001b[32m42.1/42.1 MB\u001b[0m \u001b[31m167.5 MB/s\u001b[0m eta \u001b[36m0:00:00\u001b[0m\n",
            "\u001b[?25hCollecting numba>=0.57.0 (from exo_k->petitRADTRANS)\n",
            "  Downloading numba-0.57.1-cp310-cp310-manylinux2014_x86_64.manylinux_2_17_x86_64.whl (3.6 MB)\n",
            "\u001b[2K     \u001b[90m━━━━━━━━━━━━━━━━━━━━━━━━━━━━━━━━━━━━━━━━\u001b[0m \u001b[32m3.6/3.6 MB\u001b[0m \u001b[31m139.6 MB/s\u001b[0m eta \u001b[36m0:00:00\u001b[0m\n",
            "\u001b[?25hCollecting pandas>=2.0.2 (from exo_k->petitRADTRANS)\n",
            "  Downloading pandas-2.0.3-cp310-cp310-manylinux_2_17_x86_64.manylinux2014_x86_64.whl (12.3 MB)\n",
            "\u001b[2K     \u001b[90m━━━━━━━━━━━━━━━━━━━━━━━━━━━━━━━━━━━━━━━\u001b[0m \u001b[32m12.3/12.3 MB\u001b[0m \u001b[31m170.3 MB/s\u001b[0m eta \u001b[36m0:00:00\u001b[0m\n",
            "\u001b[?25hRequirement already satisfied: pytz>=2020.1 in /usr/local/lib/python3.10/dist-packages (from pandas>=2.0.2->exo_k->petitRADTRANS) (2022.7.1)\n",
            "Collecting tzdata>=2022.1 (from pandas>=2.0.2->exo_k->petitRADTRANS)\n",
            "  Downloading tzdata-2023.3-py2.py3-none-any.whl (341 kB)\n",
            "\u001b[2K     \u001b[90m━━━━━━━━━━━━━━━━━━━━━━━━━━━━━━━━━━━━━\u001b[0m \u001b[32m341.8/341.8 kB\u001b[0m \u001b[31m269.2 MB/s\u001b[0m eta \u001b[36m0:00:00\u001b[0m\n",
            "\u001b[?25hRequirement already satisfied: six>=1.5 in /usr/local/lib/python3.10/dist-packages (from python-dateutil>=2.7->matplotlib->petitRADTRANS) (1.16.0)\n",
            "Building wheels for collected packages: petitRADTRANS\n",
            "  Building wheel for petitRADTRANS (setup.py) ... \u001b[?25l\u001b[?25hdone\n",
            "  Created wheel for petitRADTRANS: filename=petitRADTRANS-2.6.7-cp310-cp310-linux_x86_64.whl size=966408 sha256=27368ccdc31e5ab2b24fcd42bf60741c97313197e8708a3d01f4c1fb3de0f0e3\n",
            "  Stored in directory: /tmp/pip-ephem-wheel-cache-aur0b387/wheels/01/7a/12/d58563fe6b033aed09769796dc68eedcf6b052fc2c85df35c5\n",
            "Successfully built petitRADTRANS\n",
            "Installing collected packages: pymultinest, tzdata, molmass, llvmlite, pandas, numba, exo_k, corner, petitRADTRANS\n",
            "  Attempting uninstall: llvmlite\n",
            "    Found existing installation: llvmlite 0.39.1\n",
            "    Uninstalling llvmlite-0.39.1:\n",
            "      Successfully uninstalled llvmlite-0.39.1\n",
            "  Attempting uninstall: pandas\n",
            "    Found existing installation: pandas 1.5.3\n",
            "    Uninstalling pandas-1.5.3:\n",
            "      Successfully uninstalled pandas-1.5.3\n",
            "  Attempting uninstall: numba\n",
            "    Found existing installation: numba 0.56.4\n",
            "    Uninstalling numba-0.56.4:\n",
            "      Successfully uninstalled numba-0.56.4\n",
            "\u001b[31mERROR: pip's dependency resolver does not currently take into account all the packages that are installed. This behaviour is the source of the following dependency conflicts.\n",
            "google-colab 1.0.0 requires pandas==1.5.3, but you have pandas 2.0.3 which is incompatible.\u001b[0m\u001b[31m\n",
            "\u001b[0mSuccessfully installed corner-2.2.2 exo_k-1.2.1 llvmlite-0.40.1 molmass-2023.4.10 numba-0.57.1 pandas-2.0.3 petitRADTRANS-2.6.7 pymultinest-2.11 tzdata-2023.3\n"
          ]
        }
      ],
      "source": [
        "import os\n",
        "\n",
        "# Install MultiNest\n",
        "os.chdir('/content/')\n",
        "!rm -rf multinest\n",
        "!git clone https://www.github.com/johannesbuchner/multinest.git\n",
        "!cd multinest/build && cmake ..\n",
        "!sed -i 's/-lmkl_gf_lp64 -lmkl_gnu_thread/-lmkl_mc3 -lmkl_rt -lmkl_avx2/' multinest/build/src/CMakeFiles/multinest_shared.dir/link.txt\n",
        "!cd multinest/build && make && make install\n",
        "!cp /content/multinest/lib/* /lib/\n",
        "\n",
        "# Install petitRADTRANS (pRT)\n",
        "import numpy as np\n",
        "!pip install --no-cache-dir -U petitRADTRANS"
      ]
    },
    {
      "cell_type": "markdown",
      "source": [
        "&#128992; **Run the  2 cells if you are running on Colab**\n",
        "\n",
        "This cell mounts the Google Drive (please allow it to do so) and specifies the path of the pRT input data folder. If you *are* running on Colab, but changed the default path specified in the setup notebook, please modify the path to correctly point to the input data in your Google Drive.\n",
        "\n",
        "\"SSW2023/pRT\" is the default and you can leave that as-is or change it in the fill in box on the right. Be sure to pick a directory name that does not have any spaces. *This must match the directory used in the setup notebook.* This cell must be run to define the data location."
      ],
      "metadata": {
        "id": "iQwTxuhCR9QM"
      }
    },
    {
      "cell_type": "code",
      "source": [
        "# If you update the directory in the box on the right, re-run this cell\n",
        "pRT_dir = 'SSW2023/pRT' #@param {type:\"string\"}"
      ],
      "metadata": {
        "id": "YO9Ef5WWH0fy"
      },
      "execution_count": null,
      "outputs": []
    },
    {
      "cell_type": "code",
      "source": [
        "# Mount Google Drive\n",
        "from google.colab import drive\n",
        "drive.mount(\"/content/drive\")\n",
        "\n",
        "# Google top level drive dir\n",
        "drive_dir = \"/content/drive/MyDrive/\"\n",
        "\n",
        "# pRT directory path\n",
        "pRT_path = os.path.join(drive_dir, pRT_dir)\n",
        "\n",
        "# Confirm directory already exists per Setup\n",
        "if os.path.exists(pRT_path):\n",
        "  print(\"OK! directory '%s' exists\" %pRT_path)\n",
        "else:\n",
        "  print(\"Run Setup directory '%s' does not exist\" %pRT_path)\n",
        "\n",
        "# Specify location of pRT's input data\n",
        "os.environ['pRT_input_data_path'] = \\\n",
        "                  pRT_path+'/pRT_retrieval_SSW/input_data'"
      ],
      "metadata": {
        "id": "30fT8th3SMPM",
        "colab": {
          "base_uri": "https://localhost:8080/"
        },
        "outputId": "e5e9b906-b676-4076-ddbf-f6d89fba8034"
      },
      "execution_count": null,
      "outputs": [
        {
          "output_type": "stream",
          "name": "stdout",
          "text": [
            "Mounted at /content/drive\n",
            "OK! directory '/content/drive/MyDrive/SSW2023/pRT' exists\n"
          ]
        }
      ]
    },
    {
      "cell_type": "markdown",
      "source": [
        "Let's switch to the `pRT_retrieval_SSW/retrievals` folder for running the retrieval:  \n",
        "\n",
        "&#128992; **Run this cell if you are running on Colab**"
      ],
      "metadata": {
        "id": "erAQZVUgmzTt"
      }
    },
    {
      "cell_type": "code",
      "source": [
        "os.chdir(pRT_path+'/pRT_retrieval_SSW/retrievals')"
      ],
      "metadata": {
        "id": "YhwwqyLnmrOb"
      },
      "execution_count": null,
      "outputs": []
    },
    {
      "cell_type": "markdown",
      "source": [
        "# &#128309; When running on your computer:\n",
        "Please modify `absolute_path_of_the_pRT_retrieval_SSW_folder_on_your_machine` below to point to the `pRT_retrieval_SSW` folder you downloaded as described in the documentation. Then run the cell below to set the `pRT_input_data_path` environment variable accordingly. This is done such that pRT knows where the input data is.\n",
        "\n",
        "&#128309; **Run this cell if running on your computer (not Colab!)**"
      ],
      "metadata": {
        "id": "kiDy8cohSQL_"
      }
    },
    {
      "cell_type": "code",
      "source": [
        "absolute_path_of_the_pRT_retrieval_SSW_folder_on_your_machine = '' # Please complete!\n",
        "\n",
        "import os\n",
        "import numpy as np\n",
        "\n",
        "os.environ['pRT_input_data_path'] = \\\n",
        "    os.path.join(absolute_path_of_the_pRT_retrieval_SSW_folder_on_your_machine,\n",
        "                 'input_data')"
      ],
      "metadata": {
        "id": "WJopAhZoST67"
      },
      "execution_count": null,
      "outputs": []
    },
    {
      "cell_type": "markdown",
      "source": [
        "Let's switch to the `pRT_retrieval_SSW/retrievals` folder for running the retrieval.\n",
        "\n",
        "&#128309; **Run this cell if running on your computer (not Colab!)**"
      ],
      "metadata": {
        "id": "Ds7qvV7tnA3C"
      }
    },
    {
      "cell_type": "code",
      "source": [
        "os.chdir(os.path.join(absolute_path_of_the_pRT_retrieval_SSW_folder_on_your_machine,\n",
        "                 'retrievals'))"
      ],
      "metadata": {
        "id": "9OVix6pynBFo"
      },
      "execution_count": null,
      "outputs": []
    },
    {
      "cell_type": "markdown",
      "source": [
        "# What is a retrieval?\n",
        "As you learned in the lecture by Mike Line, in retrievals we try to constrain the properties of an atmosphere, given an observation. For your reference, we will repeat the most important concepts here.\n",
        "\n",
        "## Classical $\\chi^2$-minimization\n",
        "Many of you may have come across the concept of \"fitting an observation\" by so-called $\\chi^2$-minimization. In short, one the minimizes the following quantity\n",
        "\\begin{equation}\n",
        "\\chi^2 = \\sum_{i=1}^{N_\\lambda}\\frac{(y_i-f_i)^2}{\\epsilon_i^2},\n",
        "\\end{equation}\n",
        "where $y_i$ are the observed data points, $f_i$ is the model prediction of said data points, $\\epsilon_i$ is the measurement uncertainty, and $N_{\\lambda}$ is the number of data points. If we assume that the measuring uncertainties follow a Gauss distribution and that the measurements are independent, then the probability of observing the data $\\mathbf{y}$, given the model prediction $\\mathbf{F}(\\mathbf{x})$, where $\\mathbf{x}$ are the free parameters of the model, would be\n",
        "\\begin{equation}\n",
        "P(\\mathbf{y}|\\mathbf{x}) = Ce^{-\\chi^2/2}.\n",
        "\\end{equation}\n",
        "Here $C$ is a normalization constant, ensuring that $\\int P(\\mathbf{y}|\\mathbf{x})d\\mathbf{y}=1$, as must be the case for any probability distribution. Note that we expressed the data, model, and model parameters as vectors now (so $\\mathbf{y}$, $\\mathbf{F}$, and $\\mathbf{x}$, respectively; so $\\mathbf{F}$ has elements $f_i$). $\\chi^2$ is thus related to $P(\\mathbf{y}|\\mathbf{x})$ as shown above, and by minimizing $\\chi^2$ we look for a set of parameter values $\\mathbf{x}_{\\rm best}$ that maximize $P(\\mathbf{y}|\\mathbf{x})$.\n",
        "\n",
        "It is potentially not a bad assumption that $\\mathbf{x}_{\\rm best}$ is related to the most likely model parameters, given the measurement. But we would like to know the *actual* distribution of $\\mathbf{x}$ that are consistent with the data.\n",
        "\n",
        "## Retrieval definition\n",
        "\n",
        "Retrievals do just that: they provide us with an estimate of $P(\\mathbf{x}|\\mathbf{y})$ (instead of maximizing $P(\\mathbf{y}|\\mathbf{x})$). They thus answer the question: \"*what is the probability distribution of model parameter values, given an observation?*\" For an atmospheric retrieval we do this by constructing a so-called \"forward model\" that can generate synthetic (and noise-free) observations as a function of the atmospheric properties, which are expressed through the parameters of the forward model. The forward model is then compared to the data repeatedly with different parameter values, in order to determine the distribution of parameter values, given the data."
      ],
      "metadata": {
        "id": "e99dvfrozczc"
      }
    },
    {
      "cell_type": "markdown",
      "source": [
        "Analogous to what we discussed above, we now define the following quantities: $\\mathbf{y}$ is the data, in this case a vector of length $N_\\lambda$ that contains the observed flux values $y_i$ at $N_\\lambda$ wavelength points (so index $i$ runs from 1 to $N_\\lambda$). The vector $\\epsilon$ (also of length $N_\\lambda$) contains the associated uncertainties $\\epsilon_i$ for the measured flux values $y_i$. Next we define the vector $\\mathbf{x}$ which has the length $N_{\\rm param}$. This vector encodes the properties of the atmosphere for our forward model; $N_{\\rm param}$ is therefore the number of parameters. For example, $x_1$ may be the temperature at the top of the atmosphere, $x_2$ may be the temperature at the bottom, $x_3$ may be the abundance of the important absorber H$_2$O, etc. Finally, the forward-model $\\mathbf{F}(\\mathbf{x})$ is a function that takes in the vector $\\mathbf{x}$ and predicts a synthetic (noise-free) observation by solving the radiative transfer equation, modeling the observational process, etc. That means that the output of $\\mathbf{F}(\\mathbf{x})$ is also a vector of length $N_{\\rm \\lambda}$, like the observation $\\mathbf{y}$."
      ],
      "metadata": {
        "id": "_uqeZ4BC1fhU"
      }
    },
    {
      "cell_type": "markdown",
      "source": [
        "As stated above, with a retrieval we want to solve for $P(\\mathbf{x}|\\mathbf{y})$, so the probability distribution of forward model parameters, given the observation. This desired distribution is called \"posterior distribution\" (or just \"posterior\"). Using [Bayes' theorem](https://en.wikipedia.org/wiki/Bayes%27_theorem), we can express the posterior like this\n",
        "$$\n",
        "P(\\mathbf{x}|\\mathbf{y}) = \\frac{1}{P(\\mathbf{y})}\\underbrace{P(\\mathbf{x})}_{\\rm \"Prior\"} \\underbrace{P(\\mathbf{y}|\\mathbf{x})}_{\\rm \"Likelihood\"}.\n",
        "$$\n",
        "Here, $P(\\mathbf{y})$ can again be regarded as a constant, ensuring that $\\int P(\\mathbf{x}|\\mathbf{y}) d\\mathbf{x}=1$. The two other terms are the prior and the likelihood, described in the following paragraphs."
      ],
      "metadata": {
        "id": "JYAk_vTY5h7-"
      }
    },
    {
      "cell_type": "markdown",
      "source": [
        "### Priors\n",
        "\n",
        "The \"prior\" $P(\\mathbf{x})$ is an important quantity and in fact a key difference between a retrieval and a classical fit via $\\chi^2$ minimization. The prior encodes any *prior* knowledge that we had about the atmosphere *before* making the observation. An obvious example for a prior would be $P(T<0) = 0$, that is, temperatures cannot be negative. We may also have an independent measurement of the planet's mass and radius, giving rise to a prior on the planet's atmospheric gravity. If we lack any prior information for a given parameter, we will use a broad, \"uninformative\" prior distribution (usually uniform or log-uniform)."
      ],
      "metadata": {
        "id": "1rDO3qydDp5c"
      }
    },
    {
      "cell_type": "markdown",
      "source": [
        "## Log-likelihood\n",
        "\n",
        "The likelihood brings our old accquaintance  $\\chi^2$ back. It answers the question: \"How likely is it that we observed the data $\\mathbf{y}$, assuming that $\\mathbf{x}$ correctly describes the state of the atmosphere?\" Assuming that the data points have independent uncertainties that follow a Gauss (normal) distribution we can write\n",
        "$$\n",
        "P(\\mathbf{y}|\\mathbf{x}) = \\prod_{i=1}^{N_\\lambda}\\frac{1}{\\sqrt{2\\pi\\epsilon_i^2}}{\\rm exp}\\left[-\\frac{(y_i-f_i)^2}{2\\epsilon_i^2}\\right],\n",
        "$$\n",
        "where $f_i$ is the $i$-th element of $\\mathbf{F}(\\mathbf{x})$. Here we fully wrote out the expression $P(\\mathbf{y}|\\mathbf{x}) = Ce^{-\\chi^2/2}$ that we saw above."
      ],
      "metadata": {
        "id": "cxCRhqWnAR3g"
      }
    },
    {
      "cell_type": "markdown",
      "source": [
        "Since during the retrieval it can happen that we compare very small to very large likelihood values (which is challenging numerically) it is customary to work in log-space. In this case the likelihood (usually denoted by $L$) becomes the so-called \"log-likelihood\" ${\\rm log}(L)$:\n",
        "$$\n",
        "{\\rm log}(L) = -\\frac{1}{2}\\sum_{i=1}^{N_\\lambda}\\frac{(y_i-f_i)^2}{\\epsilon_i^2} + C,\n",
        "$$\n",
        "where $C=-0.5\\sum_{i=1}^{N_{\\lambda}}{\\rm log}(2\\pi \\epsilon_i^2)$ is a constant in case that the uncertainties are fixed. This is usually the case, but note that sometimes the magnitude of the uncertainties is also a free parameter of the retrieval. The log-likelihhod therefore simply is\n",
        "$$\n",
        "{\\rm log}(L) = -\\frac{\\chi^2}{2}+C.\n",
        "$$"
      ],
      "metadata": {
        "id": "GByOMNXzCBct"
      }
    },
    {
      "cell_type": "markdown",
      "source": [
        "## Retrieval practicalities\n",
        "The goal of a retrieval is to determine the posterior $P(\\mathbf{x}|\\mathbf{y})$. The problem is that we usually cannot simply analytically (or even numerically) calculate this function. Instead, retrieval methods make use of the fact that we can straightforwardly calculate prior and likelihood values once a forward model has been defined and a set of parameter values has been selected. Commonly used retrieval setups then employ the so-called \"nested sampling\" method. All it does is to generate samples of $P(\\mathbf{x}|\\mathbf{y})$. So while we do not know the exact functional form of $P(\\mathbf{x}|\\mathbf{y})$, we know how to sample from it. For this the forward model has to be called many (thousands to hundreds of millions of) times and compared to the data. Sample suggestions which are more probable, given the prior, and more consistent with the data, given the likelihood, are more likely to be accepted. This process is also called \"inverting the forward model\", and can be very computationally expensive."
      ],
      "metadata": {
        "id": "VTAIQfAmEePx"
      }
    },
    {
      "cell_type": "markdown",
      "source": [
        "# Retrieval setup\n",
        "We begin by loading the packages we will need below:"
      ],
      "metadata": {
        "id": "hJGLq-j-ynT8"
      }
    },
    {
      "cell_type": "code",
      "source": [
        "from matplotlib import pyplot as plt\n",
        "\n",
        "from petitRADTRANS import Radtrans\n",
        "from petitRADTRANS import nat_cst as nc\n",
        "from petitRADTRANS.retrieval import rebin_give_width as rgw\n",
        "from petitRADTRANS.retrieval.util import calc_MMW\n",
        "from petitRADTRANS.retrieval import parameter as pm\n",
        "from petitRADTRANS.retrieval import Retrieval,RetrievalConfig"
      ],
      "metadata": {
        "id": "TNS1TLAaz3cy"
      },
      "execution_count": null,
      "outputs": []
    },
    {
      "cell_type": "markdown",
      "source": [
        "## Preparing the data\n",
        "In what follows, we will use the blue and the red part of the NIRSPec G395H spectrum of the hot Jupiter WASP-39b ([Alderson et al. 2023](https://www.nature.com/articles/s41586-022-05591-3)), as published on [Zenodo](https://zenodo.org/record/7185300#.ZGE9GHZByxq). WASP-39b is famous for being the first planet in which photchemically produced SO$_2$ was detected with JWST. We will try the same with the G395H data here. In order to have retrievals run quickly enough, we will run at a low spectral resolution, however. So we will bin down the two spectra (weighted_average_WASP_39b_transmission_1.dat and weighted_average_WASP_39b_transmission_2.dat). In principle you could also use the G395H transmission spectrum of WASP-39b that you derived in hands-on session 2. Here we will use the Zenodo version to minimize the risk of formatting errors (we do not have much time!). Maybe you want to try your own reduction later / \"offline\"? First we load the two files here at intrinsic resolution from the hands-on session input data folder, to get a first impression of the data. The putative SO$_2$ feature appears at ~4-4.2 µm."
      ],
      "metadata": {
        "id": "uCZbtHa3zI3C"
      }
    },
    {
      "cell_type": "code",
      "execution_count": null,
      "metadata": {
        "id": "ZVMa1Naec0kK",
        "colab": {
          "base_uri": "https://localhost:8080/",
          "height": 449
        },
        "outputId": "37cd179e-3518-45ed-f19b-612cb37ed7b0"
      },
      "outputs": [
        {
          "output_type": "display_data",
          "data": {
            "text/plain": [
              "<Figure size 640x480 with 1 Axes>"
            ],
            "image/png": "[encoded data removed]"
          },
          "metadata": {}
        }
      ],
      "source": [
        "input_data_blue = np.genfromtxt('../observations/'\n",
        "                             'weighted_average_WASP_39b_transmission_1.dat')\n",
        "\n",
        "plt.errorbar(input_data_blue[:,0],\n",
        "             input_data_blue[:,1]*1e6, # multiply by 10^6 to convert to depth in units of ppm, for the plot.\n",
        "             yerr = input_data_blue[:,2]*1e6,  # multiply by 10^6 to convert to depth in units of ppm, for the plot.\n",
        "             marker='o', linestyle='',markeredgecolor='k')\n",
        "\n",
        "input_data_red = np.genfromtxt('../observations/'\n",
        "                             'weighted_average_WASP_39b_transmission_2.dat')\n",
        "plt.errorbar(input_data_red[:,0],\n",
        "             input_data_red[:,1]*1e6, # multiply by 10^6 to convert to depth in units of ppm, for the plot.\n",
        "             yerr = input_data_red[:,2]*1e6, # multiply by 10^6 to convert to depth in units of ppm, for the plot.\n",
        "             marker='o', linestyle='',markeredgecolor='k')\n",
        "\n",
        "plt.xlabel('Wavelength (µm)')\n",
        "plt.ylabel('Transit depth (ppm)')\n",
        "\n",
        "plt.show()"
      ]
    }
  ],
  "metadata": {
    "colab": {
      "provenance": [],
      "toc_visible": true
    },
    "kernelspec": {
      "display_name": "Python 3",
      "name": "python3"
    },
    "language_info": {
      "name": "python"
    }
  },
  "nbformat": 4,
  "nbformat_minor": 0
}