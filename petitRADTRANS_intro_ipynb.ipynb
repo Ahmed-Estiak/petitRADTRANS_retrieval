{
  "cells": [
    {
      "cell_type": "markdown",
      "source": [
        "## Google Colab Usage\n",
        "\n",
        "*Please read (don't just hit run) the information given above each code cell as there are separate install cells for Colab*\n",
        "&#128992;\n",
        "*and running Python on your computer*\n",
        "&#128309;.\n",
        "\n",
        "**Confirm login account**\n",
        "* Please make sure to be logged in with the Google account you want to use for the exercises before running the code cells below. You can check by clicking the circular account icon in the top right corner of the colab notebook.\n",
        "\n",
        "**Working directory**\n",
        "* Note: The software and data will be installed in a directory called \"SSW2023/pRT\" in your Google drive. This directory will be created if it does not exist.\n",
        "\n",
        "**Running cells**\n",
        "* Run cells individually by clicking on the triangle on each cell\n",
        "\n",
        "**To Restart runtime**\n",
        "*   Click on Runtime menu item\n",
        "*   Select Restart runtime\n",
        "*   Select Run code cells individually from the top\n",
        "\n",
        "**To Recreate runtime**\n",
        "*   Click on Runtime menu item\n",
        "*   Select Disconnect and Delete runtime\n",
        "*   Select Run code cells individually from the top\n",
        "\n",
        "**To Exit:**\n",
        "*   Close the browser window"
      ],
      "metadata": {
        "id": "vD1tqGZB-FrG"
      }
    },
    {
      "cell_type": "markdown",
      "metadata": {
        "id": "JwdrfrTePq7i"
      },
      "source": [
        "# &#128992; When running on Colab: pRT installation and setup\n",
        "This cell installs everything you need in Colab, as explained in the hands-on session's setup documentation.\n",
        "\n",
        "&#128992; **Run this cell if you are running on Colab**"
      ]
    },
    {
      "cell_type": "code",
      "execution_count": null,
      "metadata": {
        "id": "pbywsxzEPcMB",
        "colab": {
          "base_uri": "https://localhost:8080/"
        },
        "outputId": "5b93b961-a28f-46eb-dac5-7ecb891981c1"
      },
      "outputs": [
        {
          "output_type": "stream",
          "name": "stdout",
          "text": [
            "Cloning into 'multinest'...\n",
            "warning: redirecting to https://github.com/johannesbuchner/multinest.git/\n",
            "remote: Enumerating objects: 549, done.\u001b[K\n",
            "remote: Counting objects: 100% (118/118), done.\u001b[K\n",
            "remote: Compressing objects: 100% (98/98), done.\u001b[K\n",
            "remote: Total 549 (delta 65), reused 49 (delta 19), pack-reused 431\u001b[K\n",
            "Receiving objects: 100% (549/549), 300.02 KiB | 8.82 MiB/s, done.\n",
            "Resolving deltas: 100% (342/342), done.\n",
            "-- The Fortran compiler identification is GNU 11.3.0\n",
            "-- The C compiler identification is GNU 11.3.0\n",
            "-- The CXX compiler identification is GNU 11.3.0\n",
            "-- Detecting Fortran compiler ABI info\n",
            "-- Detecting Fortran compiler ABI info - done\n",
            "-- Check for working Fortran compiler: /usr/bin/f95 - skipped\n",
            "-- Detecting C compiler ABI info\n",
            "-- Detecting C compiler ABI info - done\n",
            "-- Check for working C compiler: /usr/bin/cc - skipped\n",
            "-- Detecting C compile features\n",
            "-- Detecting C compile features - done\n",
            "-- Detecting CXX compiler ABI info\n",
            "-- Detecting CXX compiler ABI info - done\n",
            "-- Check for working CXX compiler: /usr/bin/c++ - skipped\n",
            "-- Detecting CXX compile features\n",
            "-- Detecting CXX compile features - done\n",
            "-- Looking for Fortran sgemm\n",
            "-- Looking for Fortran sgemm - not found\n",
            "-- Performing Test CMAKE_HAVE_LIBC_PTHREAD\n",
            "-- Performing Test CMAKE_HAVE_LIBC_PTHREAD - Success\n",
            "-- Found Threads: TRUE  \n",
            "-- Looking for Fortran sgemm\n",
            "-- Looking for Fortran sgemm - found\n",
            "-- Found BLAS: /usr/local/lib/libmkl_gf_lp64.so;/usr/local/lib/libmkl_gnu_thread.so;/usr/local/lib/libmkl_core.so;/usr/lib/gcc/x86_64-linux-gnu/11/libgomp.so;-lm;-ldl  \n",
            "-- Looking for Fortran cheev\n",
            "-- Looking for Fortran cheev - found\n",
            "-- Found LAPACK: /usr/local/lib/libmkl_gf_lp64.so;/usr/local/lib/libmkl_gnu_thread.so;/usr/local/lib/libmkl_core.so;/usr/lib/gcc/x86_64-linux-gnu/11/libgomp.so;-lm;-ldl;-lm;-ldl  \n",
            "-- Detected gfortran, adding -ffree-line-length-none compiler flag.\n",
            "-- Detected gfortran >= 10, adding -std=legacy compiler flag.\n",
            "-- Detected gfortran-10+, adding -w -fallow-argument-mismatch compiler flag.\n",
            "-- Found MPI_C: /usr/lib/x86_64-linux-gnu/openmpi/lib/libmpi.so (found version \"3.1\") \n",
            "-- Found MPI_CXX: /usr/lib/x86_64-linux-gnu/openmpi/lib/libmpi_cxx.so (found version \"3.1\") \n",
            "-- Found MPI_Fortran: /usr/lib/x86_64-linux-gnu/libmpi_usempif08.so (found version \"3.1\") \n",
            "-- Found MPI: TRUE (found version \"3.1\")  \n",
            "-- Configuring done\n",
            "-- Generating done\n",
            "-- Build files have been written to: /content/multinest/build\n",
            "[  1%] \u001b[32mBuilding Fortran object src/CMakeFiles/multinest_static.dir/utils.f90.o\u001b[0m\n",
            "[  2%] \u001b[32mBuilding Fortran object src/CMakeFiles/multinest_static.dir/utils1.f90.o\u001b[0m\n",
            "[  4%] \u001b[32mBuilding Fortran object src/CMakeFiles/multinest_static.dir/kmeans_clstr.f90.o\u001b[0m\n",
            "[  5%] \u001b[32mBuilding Fortran object src/CMakeFiles/multinest_static.dir/xmeans_clstr.f90.o\u001b[0m\n",
            "[  7%] \u001b[32mBuilding Fortran object src/CMakeFiles/multinest_static.dir/posterior.F90.o\u001b[0m\n",
            "[  8%] \u001b[32mBuilding Fortran object src/CMakeFiles/multinest_static.dir/priors.f90.o\u001b[0m\n",
            "[ 10%] \u001b[32mBuilding Fortran object src/CMakeFiles/multinest_static.dir/nested.F90.o\u001b[0m\n",
            "[ 11%] \u001b[32mBuilding Fortran object src/CMakeFiles/multinest_static.dir/cwrapper.f90.o\u001b[0m\n",
            "[ 12%] \u001b[32m\u001b[1mLinking Fortran static library /content/multinest/lib/libmultinest.a\u001b[0m\n",
            "[ 12%] Built target multinest_static\n",
            "[ 14%] \u001b[32mBuilding Fortran object src/CMakeFiles/multinest_shared.dir/utils.f90.o\u001b[0m\n",
            "[ 15%] \u001b[32mBuilding Fortran object src/CMakeFiles/multinest_shared.dir/utils1.f90.o\u001b[0m\n",
            "[ 17%] \u001b[32mBuilding Fortran object src/CMakeFiles/multinest_shared.dir/kmeans_clstr.f90.o\u001b[0m\n",
            "[ 18%] \u001b[32mBuilding Fortran object src/CMakeFiles/multinest_shared.dir/xmeans_clstr.f90.o\u001b[0m\n",
            "[ 20%] \u001b[32mBuilding Fortran object src/CMakeFiles/multinest_shared.dir/posterior.F90.o\u001b[0m\n",
            "[ 21%] \u001b[32mBuilding Fortran object src/CMakeFiles/multinest_shared.dir/priors.f90.o\u001b[0m\n",
            "[ 22%] \u001b[32mBuilding Fortran object src/CMakeFiles/multinest_shared.dir/nested.F90.o\u001b[0m\n",
            "[ 24%] \u001b[32mBuilding Fortran object src/CMakeFiles/multinest_shared.dir/cwrapper.f90.o\u001b[0m\n",
            "[ 25%] \u001b[32m\u001b[1mLinking Fortran shared library /content/multinest/lib/libmultinest.so\u001b[0m\n",
            "[ 25%] Built target multinest_shared\n",
            "[ 27%] \u001b[32mBuilding Fortran object src/CMakeFiles/multinest_mpi_static.dir/utils.f90.o\u001b[0m\n",
            "[ 28%] \u001b[32mBuilding Fortran object src/CMakeFiles/multinest_mpi_static.dir/utils1.f90.o\u001b[0m\n",
            "[ 30%] \u001b[32mBuilding Fortran object src/CMakeFiles/multinest_mpi_static.dir/kmeans_clstr.f90.o\u001b[0m\n",
            "[ 31%] \u001b[32mBuilding Fortran object src/CMakeFiles/multinest_mpi_static.dir/xmeans_clstr.f90.o\u001b[0m\n",
            "[ 32%] \u001b[32mBuilding Fortran object src/CMakeFiles/multinest_mpi_static.dir/posterior.F90.o\u001b[0m\n",
            "[ 34%] \u001b[32mBuilding Fortran object src/CMakeFiles/multinest_mpi_static.dir/priors.f90.o\u001b[0m\n",
            "[ 35%] \u001b[32mBuilding Fortran object src/CMakeFiles/multinest_mpi_static.dir/nested.F90.o\u001b[0m\n",
            "[ 37%] \u001b[32mBuilding Fortran object src/CMakeFiles/multinest_mpi_static.dir/cwrapper.f90.o\u001b[0m\n",
            "[ 38%] \u001b[32m\u001b[1mLinking Fortran static library /content/multinest/lib/libmultinest_mpi.a\u001b[0m\n",
            "[ 38%] Built target multinest_mpi_static\n",
            "[ 40%] \u001b[32mBuilding Fortran object src/CMakeFiles/multinest_mpi_shared.dir/utils.f90.o\u001b[0m\n",
            "[ 41%] \u001b[32mBuilding Fortran object src/CMakeFiles/multinest_mpi_shared.dir/utils1.f90.o\u001b[0m\n",
            "[ 42%] \u001b[32mBuilding Fortran object src/CMakeFiles/multinest_mpi_shared.dir/kmeans_clstr.f90.o\u001b[0m\n",
            "[ 44%] \u001b[32mBuilding Fortran object src/CMakeFiles/multinest_mpi_shared.dir/xmeans_clstr.f90.o\u001b[0m\n",
            "[ 45%] \u001b[32mBuilding Fortran object src/CMakeFiles/multinest_mpi_shared.dir/posterior.F90.o\u001b[0m\n",
            "[ 47%] \u001b[32mBuilding Fortran object src/CMakeFiles/multinest_mpi_shared.dir/priors.f90.o\u001b[0m\n",
            "[ 48%] \u001b[32mBuilding Fortran object src/CMakeFiles/multinest_mpi_shared.dir/nested.F90.o\u001b[0m\n",
            "[ 50%] \u001b[32mBuilding Fortran object src/CMakeFiles/multinest_mpi_shared.dir/cwrapper.f90.o\u001b[0m\n",
            "[ 51%] \u001b[32m\u001b[1mLinking Fortran shared library /content/multinest/lib/libmultinest_mpi.so\u001b[0m\n",
            "[ 51%] Built target multinest_mpi_shared\n",
            "[ 52%] \u001b[32mBuilding Fortran object src/example_ackley/CMakeFiles/ackley.dir/params.f90.o\u001b[0m\n",
            "[ 54%] \u001b[32mBuilding Fortran object src/example_ackley/CMakeFiles/ackley.dir/like.f90.o\u001b[0m\n",
            "[ 55%] \u001b[32mBuilding Fortran object src/example_ackley/CMakeFiles/ackley.dir/nestwrap.f90.o\u001b[0m\n",
            "[ 57%] \u001b[32mBuilding Fortran object src/example_ackley/CMakeFiles/ackley.dir/main.f90.o\u001b[0m\n",
            "[ 58%] \u001b[32m\u001b[1mLinking Fortran executable /content/multinest/bin/ackley\u001b[0m\n",
            "[ 58%] Built target ackley\n",
            "[ 60%] \u001b[32mBuilding C object src/example_eggbox_C/CMakeFiles/eggboxC.dir/eggbox.c.o\u001b[0m\n",
            "[ 61%] \u001b[32m\u001b[1mLinking C executable /content/multinest/bin/eggboxC\u001b[0m\n",
            "[ 61%] Built target eggboxC\n",
            "[ 62%] \u001b[32mBuilding CXX object src/example_eggbox_C++/CMakeFiles/eggboxC++.dir/eggbox.cc.o\u001b[0m\n",
            "[ 64%] \u001b[32m\u001b[1mLinking CXX executable /content/multinest/bin/eggboxC++\u001b[0m\n",
            "[ 64%] Built target eggboxC++\n",
            "[ 65%] \u001b[32mBuilding Fortran object src/example_gaussian/CMakeFiles/gaussian.dir/params.f90.o\u001b[0m\n",
            "[ 67%] \u001b[32mBuilding Fortran object src/example_gaussian/CMakeFiles/gaussian.dir/like.f90.o\u001b[0m\n",
            "[ 68%] \u001b[32mBuilding Fortran object src/example_gaussian/CMakeFiles/gaussian.dir/nestwrap.f90.o\u001b[0m\n",
            "[ 70%] \u001b[32mBuilding Fortran object src/example_gaussian/CMakeFiles/gaussian.dir/main.f90.o\u001b[0m\n",
            "[ 71%] \u001b[32m\u001b[1mLinking Fortran executable /content/multinest/bin/gaussian\u001b[0m\n",
            "[ 71%] Built target gaussian\n",
            "[ 72%] \u001b[32mBuilding Fortran object src/example_gauss_shell/CMakeFiles/gauss_shell.dir/params.f90.o\u001b[0m\n",
            "[ 74%] \u001b[32mBuilding Fortran object src/example_gauss_shell/CMakeFiles/gauss_shell.dir/like.f90.o\u001b[0m\n",
            "[ 75%] \u001b[32mBuilding Fortran object src/example_gauss_shell/CMakeFiles/gauss_shell.dir/nestwrap.f90.o\u001b[0m\n",
            "[ 77%] \u001b[32mBuilding Fortran object src/example_gauss_shell/CMakeFiles/gauss_shell.dir/main.f90.o\u001b[0m\n",
            "[ 78%] \u001b[32m\u001b[1mLinking Fortran executable /content/multinest/bin/gauss_shell\u001b[0m\n",
            "[ 78%] Built target gauss_shell\n",
            "[ 80%] \u001b[32mBuilding Fortran object src/example_himmelblau/CMakeFiles/himmelblau.dir/params.f90.o\u001b[0m\n",
            "[ 81%] \u001b[32mBuilding Fortran object src/example_himmelblau/CMakeFiles/himmelblau.dir/like.f90.o\u001b[0m\n",
            "[ 82%] \u001b[32mBuilding Fortran object src/example_himmelblau/CMakeFiles/himmelblau.dir/nestwrap.f90.o\u001b[0m\n",
            "[ 84%] \u001b[32mBuilding Fortran object src/example_himmelblau/CMakeFiles/himmelblau.dir/main.f90.o\u001b[0m\n",
            "[ 85%] \u001b[32m\u001b[1mLinking Fortran executable /content/multinest/bin/himmelblau\u001b[0m\n",
            "[ 85%] Built target himmelblau\n",
            "[ 87%] \u001b[32mBuilding Fortran object src/example_obj_detect/CMakeFiles/obj_detect.dir/params.f90.o\u001b[0m\n",
            "[ 88%] \u001b[32mBuilding Fortran object src/example_obj_detect/CMakeFiles/obj_detect.dir/like.f90.o\u001b[0m\n",
            "[ 90%] \u001b[32mBuilding Fortran object src/example_obj_detect/CMakeFiles/obj_detect.dir/nestwrap.f90.o\u001b[0m\n",
            "[ 91%] \u001b[32mBuilding Fortran object src/example_obj_detect/CMakeFiles/obj_detect.dir/main.f90.o\u001b[0m\n",
            "[ 92%] \u001b[32m\u001b[1mLinking Fortran executable /content/multinest/bin/obj_detect\u001b[0m\n",
            "[ 92%] Built target obj_detect\n",
            "[ 94%] \u001b[32mBuilding Fortran object src/example_rosenbrock/CMakeFiles/rosenbrock.dir/params.f90.o\u001b[0m\n",
            "[ 95%] \u001b[32mBuilding Fortran object src/example_rosenbrock/CMakeFiles/rosenbrock.dir/like.f90.o\u001b[0m\n",
            "[ 97%] \u001b[32mBuilding Fortran object src/example_rosenbrock/CMakeFiles/rosenbrock.dir/nestwrap.f90.o\u001b[0m\n",
            "[ 98%] \u001b[32mBuilding Fortran object src/example_rosenbrock/CMakeFiles/rosenbrock.dir/main.f90.o\u001b[0m\n",
            "[100%] \u001b[32m\u001b[1mLinking Fortran executable /content/multinest/bin/rosenbrock\u001b[0m\n",
            "[100%] Built target rosenbrock\n",
            "[ 12%] Built target multinest_static\n",
            "[ 25%] Built target multinest_shared\n",
            "[ 38%] Built target multinest_mpi_static\n",
            "[ 51%] Built target multinest_mpi_shared\n",
            "[ 58%] Built target ackley\n",
            "[ 61%] Built target eggboxC\n",
            "[ 64%] Built target eggboxC++\n",
            "[ 71%] Built target gaussian\n",
            "[ 78%] Built target gauss_shell\n",
            "[ 85%] Built target himmelblau\n",
            "[ 92%] Built target obj_detect\n",
            "[100%] Built target rosenbrock\n",
            "\u001b[36mInstall the project...\u001b[0m\n",
            "-- Install configuration: \"\"\n",
            "-- Installing: /usr/local/lib/libmultinest.a\n",
            "-- Installing: /usr/local/lib/libmultinest.so.3.10\n",
            "-- Set runtime path of \"/usr/local/lib/libmultinest.so.3.10\" to \"\"\n",
            "-- Up-to-date: /usr/local/lib/libmultinest.so\n",
            "-- Installing: /usr/local/lib/libmultinest_mpi.a\n",
            "-- Installing: /usr/local/lib/libmultinest_mpi.so.3.10\n",
            "-- Set runtime path of \"/usr/local/lib/libmultinest_mpi.so.3.10\" to \"\"\n",
            "-- Up-to-date: /usr/local/lib/libmultinest_mpi.so\n",
            "-- Installing: /usr/local/modules/kmeans_clstr.mod\n",
            "-- Installing: /usr/local/modules/nested.mod\n",
            "-- Installing: /usr/local/modules/posterior.mod\n",
            "-- Installing: /usr/local/modules/priors.mod\n",
            "-- Installing: /usr/local/modules/randomns.mod\n",
            "-- Installing: /usr/local/modules/utils1.mod\n",
            "-- Installing: /usr/local/modules/xmeans_clstr.mod\n",
            "-- Installing: /usr/local/include/multinest.h\n",
            "-- Installing: /usr/local/CMakeModules/FindMultiNest.cmake\n",
            "-- Up-to-date: /usr/local/bin/chains\n",
            "-- Installing: /usr/local/bin/chains/.gitignore\n",
            "-- Installing: /usr/local/bin/ackley\n",
            "-- Set runtime path of \"/usr/local/bin/ackley\" to \"/usr/local/lib:/usr/lib/x86_64-linux-gnu/openmpi/lib\"\n",
            "-- Installing: /usr/local/bin/eggboxC\n",
            "-- Set runtime path of \"/usr/local/bin/eggboxC\" to \"/usr/local/lib:/usr/lib/x86_64-linux-gnu/openmpi/lib\"\n",
            "-- Installing: /usr/local/bin/eggboxC++\n",
            "-- Set runtime path of \"/usr/local/bin/eggboxC++\" to \"/usr/local/lib:/usr/lib/x86_64-linux-gnu/openmpi/lib\"\n",
            "-- Installing: /usr/local/bin/gaussian\n",
            "-- Set runtime path of \"/usr/local/bin/gaussian\" to \"/usr/local/lib:/usr/lib/x86_64-linux-gnu/openmpi/lib\"\n",
            "-- Installing: /usr/local/bin/gauss_shell\n",
            "-- Set runtime path of \"/usr/local/bin/gauss_shell\" to \"/usr/local/lib:/usr/lib/x86_64-linux-gnu/openmpi/lib\"\n",
            "-- Installing: /usr/local/bin/himmelblau\n",
            "-- Set runtime path of \"/usr/local/bin/himmelblau\" to \"/usr/local/lib:/usr/lib/x86_64-linux-gnu/openmpi/lib\"\n",
            "-- Installing: /usr/local/bin/obj_detect\n",
            "-- Set runtime path of \"/usr/local/bin/obj_detect\" to \"/usr/local/lib:/usr/lib/x86_64-linux-gnu/openmpi/lib\"\n",
            "-- Installing: /usr/local/bin/rosenbrock\n",
            "-- Set runtime path of \"/usr/local/bin/rosenbrock\" to \"/usr/local/lib:/usr/lib/x86_64-linux-gnu/openmpi/lib\"\n",
            "Requirement already satisfied: petitRADTRANS in /usr/local/lib/python3.10/dist-packages (2.6.7)\n",
            "Requirement already satisfied: numpy in /usr/local/lib/python3.10/dist-packages (from petitRADTRANS) (1.22.4)\n",
            "Requirement already satisfied: scipy in /usr/local/lib/python3.10/dist-packages (from petitRADTRANS) (1.10.1)\n",
            "Requirement already satisfied: matplotlib in /usr/local/lib/python3.10/dist-packages (from petitRADTRANS) (3.7.1)\n",
            "Requirement already satisfied: h5py in /usr/local/lib/python3.10/dist-packages (from petitRADTRANS) (3.8.0)\n",
            "Requirement already satisfied: corner in /usr/local/lib/python3.10/dist-packages (from petitRADTRANS) (2.2.2)\n",
            "Requirement already satisfied: astropy in /usr/local/lib/python3.10/dist-packages (from petitRADTRANS) (5.2.2)\n",
            "Requirement already satisfied: exo-k in /usr/local/lib/python3.10/dist-packages (from petitRADTRANS) (1.2.1)\n",
            "Requirement already satisfied: molmass in /usr/local/lib/python3.10/dist-packages (from petitRADTRANS) (2023.4.10)\n",
            "Requirement already satisfied: seaborn in /usr/local/lib/python3.10/dist-packages (from petitRADTRANS) (0.12.2)\n",
            "Requirement already satisfied: pymultinest in /usr/local/lib/python3.10/dist-packages (from petitRADTRANS) (2.11)\n",
            "Requirement already satisfied: pyerfa>=2.0 in /usr/local/lib/python3.10/dist-packages (from astropy->petitRADTRANS) (2.0.0.3)\n",
            "Requirement already satisfied: PyYAML>=3.13 in /usr/local/lib/python3.10/dist-packages (from astropy->petitRADTRANS) (6.0.1)\n",
            "Requirement already satisfied: packaging>=19.0 in /usr/local/lib/python3.10/dist-packages (from astropy->petitRADTRANS) (23.1)\n",
            "Requirement already satisfied: contourpy>=1.0.1 in /usr/local/lib/python3.10/dist-packages (from matplotlib->petitRADTRANS) (1.1.0)\n",
            "Requirement already satisfied: cycler>=0.10 in /usr/local/lib/python3.10/dist-packages (from matplotlib->petitRADTRANS) (0.11.0)\n",
            "Requirement already satisfied: fonttools>=4.22.0 in /usr/local/lib/python3.10/dist-packages (from matplotlib->petitRADTRANS) (4.41.1)\n",
            "Requirement already satisfied: kiwisolver>=1.0.1 in /usr/local/lib/python3.10/dist-packages (from matplotlib->petitRADTRANS) (1.4.4)\n",
            "Requirement already satisfied: pillow>=6.2.0 in /usr/local/lib/python3.10/dist-packages (from matplotlib->petitRADTRANS) (9.4.0)\n",
            "Requirement already satisfied: pyparsing>=2.3.1 in /usr/local/lib/python3.10/dist-packages (from matplotlib->petitRADTRANS) (3.1.0)\n",
            "Requirement already satisfied: python-dateutil>=2.7 in /usr/local/lib/python3.10/dist-packages (from matplotlib->petitRADTRANS) (2.8.2)\n",
            "Requirement already satisfied: llvmlite>=0.40.0 in /usr/local/lib/python3.10/dist-packages (from exo-k->petitRADTRANS) (0.40.1)\n",
            "Requirement already satisfied: numba>=0.57.0 in /usr/local/lib/python3.10/dist-packages (from exo-k->petitRADTRANS) (0.57.1)\n",
            "Requirement already satisfied: pandas>=2.0.2 in /usr/local/lib/python3.10/dist-packages (from exo-k->petitRADTRANS) (2.0.3)\n",
            "Requirement already satisfied: pytz>=2020.1 in /usr/local/lib/python3.10/dist-packages (from pandas>=2.0.2->exo-k->petitRADTRANS) (2022.7.1)\n",
            "Requirement already satisfied: tzdata>=2022.1 in /usr/local/lib/python3.10/dist-packages (from pandas>=2.0.2->exo-k->petitRADTRANS) (2023.3)\n",
            "Requirement already satisfied: six>=1.5 in /usr/local/lib/python3.10/dist-packages (from python-dateutil>=2.7->matplotlib->petitRADTRANS) (1.16.0)\n"
          ]
        }
      ],
      "source": [
        "import os\n",
        "\n",
        "# Install MultiNest\n",
        "os.chdir('/content/')\n",
        "!rm -rf multinest\n",
        "!git clone https://www.github.com/johannesbuchner/multinest.git\n",
        "!cd multinest/build && cmake ..\n",
        "!sed -i 's/-lmkl_gf_lp64 -lmkl_gnu_thread/-lmkl_mc3 -lmkl_rt -lmkl_avx2/' multinest/build/src/CMakeFiles/multinest_shared.dir/link.txt\n",
        "!cd multinest/build && make && make install\n",
        "!cp /content/multinest/lib/* /lib/\n",
        "\n",
        "# Install petitRADTRANS (pRT)\n",
        "import numpy as np\n",
        "!pip install --no-cache-dir -U petitRADTRANS"
      ]
    },
    {
      "cell_type": "markdown",
      "source": [
        "&#128992; **Run the  2 cells if you are running on Colab**\n",
        "\n",
        "This cell mounts the Google Drive (please allow it to do so) and specifies the path of the pRT input data folder. If you *are* running on Colab, but changed the default path specified in the setup notebook, please modify the path to correctly point to the input data in your Google Drive.\n",
        "\n",
        "\"SSW2023/pRT\" is the default and you can leave that as-is or change it in the fill in box on the right. Be sure to pick a directory name that does not have any spaces. *This must match the directory used in the setup notebook.* This cell must be run to define the data location."
      ],
      "metadata": {
        "id": "a7eu6BmxIcXl"
      }
    },
    {
      "cell_type": "code",
      "source": [
        "# If you update the directory in the box on the right, re-run this cell\n",
        "pRT_dir = 'SSW2023/pRT' #@param {type:\"string\"}"
      ],
      "metadata": {
        "id": "F2L6jybx_YcY"
      },
      "execution_count": null,
      "outputs": []
    },
    {
      "cell_type": "code",
      "source": [
        "# Mount Google Drive\n",
        "from google.colab import drive\n",
        "drive.mount(\"/content/drive\")\n",
        "\n",
        "# Google top level drive dir\n",
        "drive_dir = \"/content/drive/MyDrive/\"\n",
        "\n",
        "# pRT directory path\n",
        "pRT_path = os.path.join(drive_dir, pRT_dir)\n",
        "\n",
        "# Confirm directory already exists per Setup\n",
        "if os.path.exists(pRT_path):\n",
        "  print(\"OK! directory '%s' exists\" %pRT_path)\n",
        "else:\n",
        "  print(\"Run Setup directory '%s' does not exist\" %pRT_path)\n",
        "\n",
        "# Specify location of pRT's input data\n",
        "os.environ['pRT_input_data_path'] = \\\n",
        "                  pRT_path+'/pRT_retrieval_SSW/input_data'"
      ],
      "metadata": {
        "id": "tndgSNG-IchQ",
        "colab": {
          "base_uri": "https://localhost:8080/"
        },
        "outputId": "a3ab3345-2297-4162-bbd8-22dcefcd1f88"
      },
      "execution_count": null,
      "outputs": [
        {
          "output_type": "stream",
          "name": "stdout",
          "text": [
            "Drive already mounted at /content/drive; to attempt to forcibly remount, call drive.mount(\"/content/drive\", force_remount=True).\n",
            "OK! directory '/content/drive/MyDrive/SSW2023/pRT' exists\n"
          ]
        }
      ]
    },
    {
      "cell_type": "markdown",
      "source": [
        "# &#128309; When running on your computer:\n",
        "Please modify `absolute_path_of_the_pRT_retrieval_SSW_folder_on_your_machine` below to point to the `pRT_retrieval_SSW` folder you downloaded as described in the documentation. Then run the cell below to set the `pRT_input_data_path` environment variable accordingly. This is done such that pRT knows where the input data is.\n",
        "\n",
        "&#128309; **Run this cell if running on your computer (not Colab!)**"
      ],
      "metadata": {
        "id": "Q5HAV2wjPxzo"
      }
    },
    {
      "cell_type": "code",
      "source": [
        "absolute_path_of_the_pRT_retrieval_SSW_folder_on_your_machine = '' # Please complete!\n",
        "\n",
        "import os\n",
        "import numpy as np\n",
        "\n",
        "os.environ['pRT_input_data_path'] = \\\n",
        "    os.path.join(absolute_path_of_the_pRT_retrieval_SSW_folder_on_your_machine,\n",
        "                 'input_data')"
      ],
      "metadata": {
        "id": "My19NpmYP5IJ"
      },
      "execution_count": null,
      "outputs": []
    },
    {
      "cell_type": "markdown",
      "metadata": {
        "id": "oZ42-YxpPjjz"
      },
      "source": [
        "# petitRADTRANS: introduction exercises\n",
        "## Defining an atmosphere and calculating its emission spectrum\n",
        "To get started, let's calculate the emission spectrum of a hot Jupiter. The detailed description of everything that pRT allows you to do can be found in the [online tutorial](https://petitradtrans.readthedocs.io/en/latest/content/tutorial.html). Because we don't have too much time, we will only discuss a subset of this.\n",
        "\n",
        "We start by making a pRT object, which we call `atmosphere` here; we tell it which opacity species to use, and over which wavelength range. More information on which opacity species are available can be found [here](https://petitradtrans.readthedocs.io/en/latest/content/available_opacities.html), but note that we only have a smaller selection available for the condensed input data folder we use for the Sagan Workshop. Flags like `_HITEMP` reference a specific opacity data base, `R_200` means that the opacity resolution ($\\lambda / \\Delta \\lambda$) is equal to 200 in our example. [pRT allows users to bin down line opacities to any resolution](https://petitradtrans.readthedocs.io/en/latest/content/notebooks/Rebinning_opacities.html)."
      ]
    },
    {
      "cell_type": "code",
      "execution_count": null,
      "metadata": {
        "id": "4W2RmZBqPpm6",
        "colab": {
          "base_uri": "https://localhost:8080/"
        },
        "outputId": "aa54b241-0fbc-478e-ccc9-05f6744cfcb3"
      },
      "outputs": [
        {
          "output_type": "stream",
          "name": "stderr",
          "text": [
            "/usr/local/lib/python3.10/dist-packages/petitRADTRANS/radtrans.py:119: FutureWarning: pRT_input_data_path was set by an environment variable. In a future update, the path to the petitRADTRANS input_data will be set within a .ini file that will be automatically generated into the user home directory (OS agnostic), inside a .petitradtrans directory\n",
            "  warnings.warn(f\"pRT_input_data_path was set by an environment variable. In a future update, the path to \"\n"
          ]
        },
        {
          "output_type": "stream",
          "name": "stdout",
          "text": [
            "  Read line opacities of H2O_Exomol_R_200...\n",
            " Done.\n",
            "  Read line opacities of CO_all_iso_HITEMP_R_200...\n",
            " Done.\n",
            "  Read line opacities of CH4_hargreaves_R_200...\n",
            " Done.\n",
            "  Read line opacities of CO2_R_200...\n",
            " Done.\n",
            "  Read line opacities of SO2_R_200...\n",
            " Done.\n",
            "\n",
            "  Read CIA opacities for H2-H2...\n",
            "  Read CIA opacities for H2-He...\n",
            "Done.\n",
            "\n"
          ]
        }
      ],
      "source": [
        "import os\n",
        "import numpy as np\n",
        "from petitRADTRANS import Radtrans\n",
        "\n",
        "# Line absorbers:\n",
        "line_species = ['H2O_Exomol_R_200', # _Exomol stands for the water line list from Exomol.\n",
        "                'CO_all_iso_HITEMP_R_200', # _R_200 means that the opacity resolution is 200.\n",
        "                'CH4_hargreaves_R_200',\n",
        "                'CO2_R_200',\n",
        "                'SO2_R_200']\n",
        "\n",
        "# Rayleigh scatterers\n",
        "rayleigh_species = ['H2', 'He']\n",
        "\n",
        "# Collision-induced absorption opacity\n",
        "continuum_opacities = ['H2-H2', 'H2-He']\n",
        "\n",
        "# Wavelength range for calculating spectra, in micrometer\n",
        "wlen_bords_micron = [0.3, 15]\n",
        "\n",
        "atmosphere = Radtrans(line_species = line_species,\n",
        "                      rayleigh_species = rayleigh_species,\n",
        "                      continuum_opacities = continuum_opacities,\n",
        "                      wlen_bords_micron = wlen_bords_micron)"
      ]
    },
    {
      "cell_type": "markdown",
      "metadata": {
        "id": "89lAT-zdSMa5"
      },
      "source": [
        "Next we define the vertical structure of the atmosphere, we will use 100 layers, equidistantly spaced in log(pressure) from 1 $\\mu$bar to 100 bar."
      ]
    },
    {
      "cell_type": "code",
      "execution_count": null,
      "metadata": {
        "id": "kOvN9hC_SC6L"
      },
      "outputs": [],
      "source": [
        "pressures = np.logspace(-6, 2, 100)\n",
        "# tell the pRT object about the pressure grid to be used\n",
        "atmosphere.setup_opa_structure(pressures)"
      ]
    },
    {
      "cell_type": "markdown",
      "metadata": {
        "id": "CIRxQYSrSbz7"
      },
      "source": [
        "Next we define the atmospheric temperature structure, using a [Guillot (2010)](https://ui.adsabs.harvard.edu/abs/2010A%26A...520A..27G/abstract) temperature profile. It has the following free parameters:\n",
        "- $\\kappa_{\\rm IR}$ is the average infrared opacity (so photon absorption cross-section per unit mass of atmospheric material).\n",
        "- $\\gamma$ is the ratio between the optical and infrared opacity and controls whether temperature inversions form in the atmosphere.\n",
        "- $T_{\\rm int}$ is the internal temperature of the planet, defined such that the net planet flux radiated to space at the top of the atmosphere is $F_{\\rm int}=\\sigma T_{\\rm int}^4$, where $\\sigma$ is the Stefan-Boltzmann constant.\n",
        "- $T_{\\rm equ}$ is the equilibrium temperature of the planet, expressing the strength of irradiation, defined such that the planet-wide average (over the full sphere) of the stellar flux received at the location of the planet is $F_{\\rm equ}=\\sigma T_{\\rm equ}^4$. It holds that $T_{\\rm eff}^4 = T_{\\rm equ}^4 + T_{\\rm int}^4$, where $T_{\\rm eff}$ is the planet's effective temperature.\n",
        "\n",
        "The temperature profile is then defined like this:\n",
        "$$T(\\tau)^4 = \\frac{3T_{\\rm int}^4}{4}\\left(\\frac{2}{3}+\\tau\\right) + \\frac{3T_{\\rm equ}^4}{4}\\left[\\frac{2}{3}+\\frac{1}{\\gamma\\sqrt{3}}+\\left(\\frac{\\gamma}{\\sqrt{3}}-\\frac{1}{\\gamma\\sqrt{3}}\\right)e^{-\\gamma\\tau\\sqrt{3}}\\right].$$\n",
        "Here, $\\tau$ is the so-called optical depth, which is defined as altitude in units of the mean free path of a photon. $\\tau = 0$ denotes the top of the atmosphere and we go deeper (to lower altitudes) into the atmosphere for $\\tau > 0$. So, when moving from the top to an altitude corresponding to $\\tau=3$, say, a photon would on average be absorbed three times (which makes it unkikely, but not impossible, that a photon travels that far). One can approximate $\\tau = P\\kappa_{\\rm IR}/g$, where $g$ is the gravitational acceleration in the atmosphere and $P$ is the pressure. In this way we can transform from $T(\\tau)$ to $T(P)$.\n",
        "\n",
        "**Please note that the Guillot (2010) formulation is \"only\" a useful mathematical approximation of how atmospheric temperature structures behave upon variation of fundamental input parameters. It is a useful qualitative tool, but cannot predict atmospheric pressure-temperature structures quantitatively. In general things are more complicated. Atmospheres do not just have one infrared opacity and one $\\gamma$ value, instead both vary as function of wavelength and altitude. In addition, Guillot (2010) assumes that the atmosphere is 1-d, that all energy is transported by radiation, etc.** The Guillot formulation may still be a useful function to parameterize the shape of atmospheric temperature structures in a retrieval, however. In this case the best-fit parameters would not tell you anything about the true values of $\\kappa_{\\rm IR}$, $\\gamma$, etc., since a retrieval does not know anything about the physical interpretation we associate with parameters. In this case the Guillot parameters are merely a knob to tune the temperature profile to the right shape."
      ]
    },
    {
      "cell_type": "code",
      "execution_count": null,
      "metadata": {
        "id": "NjX8zcyuSTri"
      },
      "outputs": [],
      "source": [
        "import pylab as plt\n",
        "plt.rcParams['figure.figsize'] = (10, 6)\n",
        "\n",
        "from petitRADTRANS.physics import guillot_global\n",
        "\n",
        "# All I/O in petitRADTRANS in in cgs units,\n",
        "# other than pressure (which is in bars) and and MMW (which is in units of amu)\n",
        "# Internally, pRT does everything in cgs units.\n",
        "\n",
        "gravity = 10**3.5 # Typical hot Jupiter gravity value\n",
        "\n",
        "kappa_IR = 0.01 # Typical hot Jupiter opacity value.\n",
        "gamma = 0.4 # This gamma leads to a non-inverted atmosphere.\n",
        "T_int = 200. # Internal temperature, set by the cooling rate of the planet.\n",
        "T_equ = 1500. # Euqilibrium temperature, set by the irradiation strength of the star.\n",
        "\n",
        "temperature = guillot_global(pressures, kappa_IR, gamma, gravity, T_int, T_equ)"
      ]
    },
    {
      "cell_type": "markdown",
      "metadata": {
        "id": "S0o-QfKESxQQ"
      },
      "source": [
        "This is what it looks like:"
      ]
    },
    {
      "cell_type": "code",
      "execution_count": null,
      "metadata": {
        "id": "3tGZXGtgSlgh",
        "colab": {
          "base_uri": "https://localhost:8080/",
          "height": 539
        },
        "outputId": "3c15acc4-7f38-48c0-863e-fadb4edd2fe9"
      },
      "outputs": [
        {
          "output_type": "display_data",
          "data": {
            "text/plain": [
              "<Figure size 1000x600 with 1 Axes>"
            ],
            "image/png": "[encoded data removed]"
          },
          "metadata": {}
        }
      ],
      "source": [
        "plt.plot(temperature, pressures)\n",
        "plt.yscale('log')\n",
        "plt.xlim([1300, 1750])\n",
        "plt.ylim([1e2, 1e-6])\n",
        "plt.xlabel('T (K)')\n",
        "plt.ylabel('P (bar)')\n",
        "plt.show()"
      ]
    }
  ],
  "metadata": {
    "colab": {
      "provenance": [],
      "toc_visible": true
    },
    "kernelspec": {
      "display_name": "Python 3 (ipykernel)",
      "language": "python",
      "name": "python3"
    },
    "language_info": {
      "codemirror_mode": {
        "name": "ipython",
        "version": 3
      },
      "file_extension": ".py",
      "mimetype": "text/x-python",
      "name": "python",
      "nbconvert_exporter": "python",
      "pygments_lexer": "ipython3",
      "version": "3.10.9"
    }
  },
  "nbformat": 4,
  "nbformat_minor": 0
}